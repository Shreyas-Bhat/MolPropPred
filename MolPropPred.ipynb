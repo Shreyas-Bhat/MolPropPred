{
  "cells": [
    {
      "cell_type": "markdown",
      "metadata": {
        "id": "ZavYrAqOuv_U"
      },
      "source": [
        "## import libraries "
      ]
    },
    {
      "cell_type": "code",
      "execution_count": 1,
      "metadata": {
        "id": "sBMCpOWY5_rq"
      },
      "outputs": [],
      "source": [
        "from collections import OrderedDict"
      ]
    },
    {
      "cell_type": "code",
      "execution_count": null,
      "metadata": {
        "colab": {
          "base_uri": "https://localhost:8080/"
        },
        "id": "Y61NCwu4KM8G",
        "outputId": "08a1f7d2-f75d-4186-fafb-53316d2c9c8d"
      },
      "outputs": [
        {
          "name": "stdout",
          "output_type": "stream",
          "text": [
            "--2022-02-14 16:55:33--  http://deepchem.io.s3-website-us-west-1.amazonaws.com/datasets/gdb9.tar.gz\n",
            "Resolving deepchem.io.s3-website-us-west-1.amazonaws.com (deepchem.io.s3-website-us-west-1.amazonaws.com)... 52.219.117.3\n",
            "Connecting to deepchem.io.s3-website-us-west-1.amazonaws.com (deepchem.io.s3-website-us-west-1.amazonaws.com)|52.219.117.3|:80... connected.\n",
            "HTTP request sent, awaiting response... 200 OK\n",
            "Length: 44852087 (43M) [application/x-gzip]\n",
            "Saving to: ‘gdb9.tar.gz’\n",
            "\n",
            "gdb9.tar.gz         100%[===================>]  42.77M  96.0MB/s    in 0.4s    \n",
            "\n",
            "2022-02-14 16:55:33 (96.0 MB/s) - ‘gdb9.tar.gz’ saved [44852087/44852087]\n",
            "\n"
          ]
        }
      ],
      "source": [
        "\n",
        "!wget http://deepchem.io.s3-website-us-west-1.amazonaws.com/datasets/gdb9.tar.gz"
      ]
    },
    {
      "cell_type": "code",
      "execution_count": null,
      "metadata": {
        "colab": {
          "base_uri": "https://localhost:8080/"
        },
        "id": "naYAAEARTL5d",
        "outputId": "463ff9a2-bfeb-4885-e3a1-62c675e42302"
      },
      "outputs": [
        {
          "name": "stdout",
          "output_type": "stream",
          "text": [
            "Mounted at /content/drive\n"
          ]
        }
      ],
      "source": [
        "from google.colab import drive\n",
        "drive.mount('/content/drive')\n"
      ]
    },
    {
      "cell_type": "code",
      "execution_count": null,
      "metadata": {
        "id": "v6zPzwdxfvTh"
      },
      "outputs": [],
      "source": [
        "# !wget -c https://repo.continuum.io/miniconda/Miniconda3-latest-Linux-x86_64.sh\n",
        "# !chmod +x Miniconda3-latest-Linux-x86_64.sh\n",
        "# !time bash ./Miniconda3-latest-Linux-x86_64.sh -b -f -p /usr/local\n",
        "# !time conda install -q -y -c conda-forge rdkit"
      ]
    },
    {
      "cell_type": "code",
      "execution_count": null,
      "metadata": {
        "id": "dTiOnBdqQ3dj"
      },
      "outputs": [],
      "source": [
        "# # version 2018 is quite easy\n",
        "# # download & extract\n",
        "# url = 'https://anaconda.org/rdkit/rdkit/2018.09.1.0/download/linux-64/rdkit-2018.09.1.0-py36h71b666b_1.tar.bz2'\n",
        "# !curl -L $url | tar xj lib\n",
        "# # move to python packages directory\n",
        "# !mv lib/python3.6/site-packages/rdkit /usr/local/lib/python3.6/dist-packages/\n",
        "# x86 = '/usr/lib/x86_64-linux-gnu'\n",
        "# !mv lib/*.so.* $x86/\n",
        "# # rdkit need libboost_python3.so.1.65.1\n",
        "# !ln -s $x86/libboost_python3-py36.so.1.65.1 $x86/libboost_python3.so.1.65.1"
      ]
    },
    {
      "cell_type": "code",
      "execution_count": 2,
      "metadata": {
        "id": "6Rb_IbZ4fysX"
      },
      "outputs": [],
      "source": [
        "%matplotlib inline\n",
        "import matplotlib.pyplot as plt\n",
        "import sys\n",
        "import os\n",
        "#sys.path.append('/usr/local/lib/python3.7/site-packages/')\n",
        "from sklearn.preprocessing import MinMaxScaler, RobustScaler, StandardScaler"
      ]
    },
    {
      "cell_type": "code",
      "execution_count": null,
      "metadata": {
        "colab": {
          "base_uri": "https://localhost:8080/"
        },
        "id": "SoSFxjfoRrxN",
        "outputId": "0db977a3-7f2d-445a-eed9-3f3de924f495"
      },
      "outputs": [
        {
          "name": "stdout",
          "output_type": "stream",
          "text": [
            "Looking in indexes: https://pypi.org/simple, https://us-python.pkg.dev/colab-wheels/public/simple/\n",
            "Collecting rdkit-pypi\n",
            "  Downloading rdkit_pypi-2022.3.3-cp37-cp37m-manylinux_2_17_x86_64.manylinux2014_x86_64.whl (22.7 MB)\n",
            "\u001b[K     |████████████████████████████████| 22.7 MB 97.2 MB/s \n",
            "\u001b[?25hRequirement already satisfied: numpy in /usr/local/lib/python3.7/dist-packages (from rdkit-pypi) (1.21.6)\n",
            "Requirement already satisfied: Pillow in /usr/local/lib/python3.7/dist-packages (from rdkit-pypi) (7.1.2)\n",
            "Installing collected packages: rdkit-pypi\n",
            "Successfully installed rdkit-pypi-2022.3.3\n"
          ]
        }
      ],
      "source": [
        "!pip install rdkit-pypi"
      ]
    },
    {
      "cell_type": "code",
      "execution_count": 3,
      "metadata": {
        "id": "Z5wkx_kdrTkV"
      },
      "outputs": [],
      "source": [
        "from rdkit import Chem, DataStructs"
      ]
    },
    {
      "cell_type": "code",
      "execution_count": 4,
      "metadata": {
        "colab": {
          "base_uri": "https://localhost:8080/"
        },
        "id": "JKY44O-PDcvD",
        "outputId": "daffbc96-6323-411e-82ac-5301d06c7c51"
      },
      "outputs": [],
      "source": [
        "\n",
        "import deepchem as dc"
      ]
    },
    {
      "cell_type": "code",
      "execution_count": 5,
      "metadata": {
        "id": "mGhJ_zmOAK--"
      },
      "outputs": [],
      "source": [
        "from ipywidgets import FloatProgress\n",
        "from IPython.display import display"
      ]
    },
    {
      "cell_type": "code",
      "execution_count": 6,
      "metadata": {
        "id": "aKV1RV2RARp7"
      },
      "outputs": [],
      "source": [
        "from rdkit.Chem import AllChem\n",
        "from deepchem.feat.graph_features import *"
      ]
    },
    {
      "cell_type": "code",
      "execution_count": 7,
      "metadata": {
        "id": "SucYlMN-6CLa"
      },
      "outputs": [],
      "source": [
        "import torch\n",
        "import torch.nn as nn\n",
        "import torch.optim as optim\n",
        "import torch.nn.functional as F"
      ]
    },
    {
      "cell_type": "code",
      "execution_count": 8,
      "metadata": {
        "colab": {
          "base_uri": "https://localhost:8080/"
        },
        "id": "T16j0KmFiMpS",
        "outputId": "edef8a75-c9b9-4108-df98-b912ed045d0b"
      },
      "outputs": [],
      "source": [
        "\n",
        "import wandb"
      ]
    },
    {
      "cell_type": "code",
      "execution_count": 9,
      "metadata": {
        "colab": {
          "base_uri": "https://localhost:8080/",
          "height": 128
        },
        "id": "E81uYB7ri5WD",
        "outputId": "bbf0feb0-195d-42a1-b28e-0f4aa786e293"
      },
      "outputs": [
        {
          "name": "stderr",
          "output_type": "stream",
          "text": [
            "Failed to detect the name of this notebook, you can set it manually with the WANDB_NOTEBOOK_NAME environment variable to enable code saving.\n",
            "\u001b[34m\u001b[1mwandb\u001b[0m: Currently logged in as: \u001b[33mmrunmay\u001b[0m (\u001b[33mqm9\u001b[0m). Use \u001b[1m`wandb login --relogin`\u001b[0m to force relogin\n"
          ]
        },
        {
          "data": {
            "text/html": [
              "Tracking run with wandb version 0.12.18"
            ],
            "text/plain": [
              "<IPython.core.display.HTML object>"
            ]
          },
          "metadata": {},
          "output_type": "display_data"
        },
        {
          "data": {
            "text/html": [
              "Run data is saved locally in <code>f:\\SMoleculeQM9\\wandb\\run-20220615_163918-xwyijrje</code>"
            ],
            "text/plain": [
              "<IPython.core.display.HTML object>"
            ]
          },
          "metadata": {},
          "output_type": "display_data"
        },
        {
          "data": {
            "text/html": [
              "Syncing run <strong><a href=\"https://wandb.ai/qm9/qm9/runs/xwyijrje\" target=\"_blank\">fragrant-cosmos-37</a></strong> to <a href=\"https://wandb.ai/qm9/qm9\" target=\"_blank\">Weights & Biases</a> (<a href=\"https://wandb.me/run\" target=\"_blank\">docs</a>)<br/>"
            ],
            "text/plain": [
              "<IPython.core.display.HTML object>"
            ]
          },
          "metadata": {},
          "output_type": "display_data"
        },
        {
          "data": {
            "text/html": [
              "<button onClick=\"this.nextSibling.style.display='block';this.style.display='none';\">Display W&B run</button><iframe src=\"https://wandb.ai/qm9/qm9/runs/xwyijrje?jupyter=true\" style=\"border:none;width:100%;height:420px;display:none;\"></iframe>"
            ],
            "text/plain": [
              "<wandb.sdk.wandb_run.Run at 0x29dc52c0880>"
            ]
          },
          "execution_count": 9,
          "metadata": {},
          "output_type": "execute_result"
        }
      ],
      "source": [
        "wandb.init(project=\"qm9\", entity=\"qm9\")"
      ]
    },
    {
      "cell_type": "markdown",
      "metadata": {
        "id": "ag8hOVHDu7bl"
      },
      "source": [
        "## Parameters "
      ]
    },
    {
      "cell_type": "code",
      "execution_count": 10,
      "metadata": {
        "id": "8QI4518784oy"
      },
      "outputs": [],
      "source": [
        "# N = 10000# number of molecules in the dataset\n",
        "N = 133885\n",
        "D = 75     # hidden dimension of each atom\n",
        "E = 6      # dimension of each edge\n",
        "T = 3      # number of time steps the message phase will run for\n",
        "P = 32     # dimensions of the output from the readout phase, the penultimate output before the target layer\n",
        "V = 11     # dimensions of the molecular targets or tasks"
      ]
    },
    {
      "cell_type": "code",
      "execution_count": 11,
      "metadata": {
        "id": "PAnNYW49AieH"
      },
      "outputs": [],
      "source": [
        "# TRAIN_SIZE = 8000\n",
        "TRAIN_SIZE = 100000\n",
        "# VALID_SIZE = 1000\n",
        "VALID_SIZE = 30000\n",
        "# TEST_SIZE  = 1000\n",
        "TEST_SIZE  = 23885\n",
        "BATCH_SIZE = 16\n",
        "NUM_EPOCHS = 20\n"
      ]
    },
    {
      "cell_type": "code",
      "execution_count": 12,
      "metadata": {
        "id": "yvOKDVqjAl3Q"
      },
      "outputs": [],
      "source": [
        "DF = np.random.uniform(0.01, 1)\n",
        "LR = np.random.uniform(1e-5, 5e-4)\n",
        "LF = DF * LR\n",
        "# from google.colab import drive\n",
        "# drive.mount('/content/gdrive')"
      ]
    },
    {
      "cell_type": "code",
      "execution_count": 13,
      "metadata": {
        "colab": {
          "base_uri": "https://localhost:8080/"
        },
        "id": "YTJcmEftAokk",
        "outputId": "f56b1b93-f3ca-4cad-ec19-a258b043c744"
      },
      "outputs": [
        {
          "name": "stdout",
          "output_type": "stream",
          "text": [
            "decay factor          : 0.805448\n",
            "initial learning rate : 0.000359\n",
            "final learning rate   : 0.000289\n"
          ]
        }
      ],
      "source": [
        "print('decay factor          : %.6f'%(DF))\n",
        "print('initial learning rate : %.6f'%(LR))\n",
        "print('final learning rate   : %.6f'%(LF))"
      ]
    },
    {
      "cell_type": "code",
      "execution_count": 14,
      "metadata": {
        "id": "3gjOW2wRAwpA"
      },
      "outputs": [],
      "source": [
        "wandb.config = {\n",
        "    \"learning_rate\": LF,\n",
        "    \"epochs\": 20,\n",
        "    \"batch_size\": 16\n",
        "}"
      ]
    },
    {
      "cell_type": "code",
      "execution_count": 15,
      "metadata": {
        "id": "vFSO0tF7BVjh"
      },
      "outputs": [],
      "source": [
        "import numpy as np\n",
        "import pandas as pd\n",
        "qm9 = pd.read_csv('data/qm9.csv')"
      ]
    },
    {
      "cell_type": "code",
      "execution_count": 16,
      "metadata": {
        "colab": {
          "base_uri": "https://localhost:8080/",
          "height": 299
        },
        "id": "BNoek7u3DWHp",
        "outputId": "e0112cba-8ba1-4f17-d0b0-4ae2271ebdc9"
      },
      "outputs": [
        {
          "data": {
            "text/html": [
              "<div>\n",
              "<style scoped>\n",
              "    .dataframe tbody tr th:only-of-type {\n",
              "        vertical-align: middle;\n",
              "    }\n",
              "\n",
              "    .dataframe tbody tr th {\n",
              "        vertical-align: top;\n",
              "    }\n",
              "\n",
              "    .dataframe thead th {\n",
              "        text-align: right;\n",
              "    }\n",
              "</style>\n",
              "<table border=\"1\" class=\"dataframe\">\n",
              "  <thead>\n",
              "    <tr style=\"text-align: right;\">\n",
              "      <th></th>\n",
              "      <th>mol_id</th>\n",
              "      <th>smiles</th>\n",
              "      <th>A</th>\n",
              "      <th>B</th>\n",
              "      <th>C</th>\n",
              "      <th>mu</th>\n",
              "      <th>alpha</th>\n",
              "      <th>homo</th>\n",
              "      <th>lumo</th>\n",
              "      <th>gap</th>\n",
              "      <th>...</th>\n",
              "      <th>zpve</th>\n",
              "      <th>u0</th>\n",
              "      <th>u298</th>\n",
              "      <th>h298</th>\n",
              "      <th>g298</th>\n",
              "      <th>cv</th>\n",
              "      <th>u0_atom</th>\n",
              "      <th>u298_atom</th>\n",
              "      <th>h298_atom</th>\n",
              "      <th>g298_atom</th>\n",
              "    </tr>\n",
              "  </thead>\n",
              "  <tbody>\n",
              "    <tr>\n",
              "      <th>0</th>\n",
              "      <td>gdb_1</td>\n",
              "      <td>C</td>\n",
              "      <td>157.71180</td>\n",
              "      <td>157.709970</td>\n",
              "      <td>157.706990</td>\n",
              "      <td>0.0000</td>\n",
              "      <td>13.21</td>\n",
              "      <td>-0.3877</td>\n",
              "      <td>0.1171</td>\n",
              "      <td>0.5048</td>\n",
              "      <td>...</td>\n",
              "      <td>0.044749</td>\n",
              "      <td>-40.478930</td>\n",
              "      <td>-40.476062</td>\n",
              "      <td>-40.475117</td>\n",
              "      <td>-40.498597</td>\n",
              "      <td>6.469</td>\n",
              "      <td>-395.999595</td>\n",
              "      <td>-398.643290</td>\n",
              "      <td>-401.014647</td>\n",
              "      <td>-372.471772</td>\n",
              "    </tr>\n",
              "    <tr>\n",
              "      <th>1</th>\n",
              "      <td>gdb_2</td>\n",
              "      <td>N</td>\n",
              "      <td>293.60975</td>\n",
              "      <td>293.541110</td>\n",
              "      <td>191.393970</td>\n",
              "      <td>1.6256</td>\n",
              "      <td>9.46</td>\n",
              "      <td>-0.2570</td>\n",
              "      <td>0.0829</td>\n",
              "      <td>0.3399</td>\n",
              "      <td>...</td>\n",
              "      <td>0.034358</td>\n",
              "      <td>-56.525887</td>\n",
              "      <td>-56.523026</td>\n",
              "      <td>-56.522082</td>\n",
              "      <td>-56.544961</td>\n",
              "      <td>6.316</td>\n",
              "      <td>-276.861363</td>\n",
              "      <td>-278.620271</td>\n",
              "      <td>-280.399259</td>\n",
              "      <td>-259.338802</td>\n",
              "    </tr>\n",
              "    <tr>\n",
              "      <th>2</th>\n",
              "      <td>gdb_3</td>\n",
              "      <td>O</td>\n",
              "      <td>799.58812</td>\n",
              "      <td>437.903860</td>\n",
              "      <td>282.945450</td>\n",
              "      <td>1.8511</td>\n",
              "      <td>6.31</td>\n",
              "      <td>-0.2928</td>\n",
              "      <td>0.0687</td>\n",
              "      <td>0.3615</td>\n",
              "      <td>...</td>\n",
              "      <td>0.021375</td>\n",
              "      <td>-76.404702</td>\n",
              "      <td>-76.401867</td>\n",
              "      <td>-76.400922</td>\n",
              "      <td>-76.422349</td>\n",
              "      <td>6.002</td>\n",
              "      <td>-213.087624</td>\n",
              "      <td>-213.974294</td>\n",
              "      <td>-215.159658</td>\n",
              "      <td>-201.407171</td>\n",
              "    </tr>\n",
              "    <tr>\n",
              "      <th>3</th>\n",
              "      <td>gdb_4</td>\n",
              "      <td>C#C</td>\n",
              "      <td>0.00000</td>\n",
              "      <td>35.610036</td>\n",
              "      <td>35.610036</td>\n",
              "      <td>0.0000</td>\n",
              "      <td>16.28</td>\n",
              "      <td>-0.2845</td>\n",
              "      <td>0.0506</td>\n",
              "      <td>0.3351</td>\n",
              "      <td>...</td>\n",
              "      <td>0.026841</td>\n",
              "      <td>-77.308427</td>\n",
              "      <td>-77.305527</td>\n",
              "      <td>-77.304583</td>\n",
              "      <td>-77.327429</td>\n",
              "      <td>8.574</td>\n",
              "      <td>-385.501997</td>\n",
              "      <td>-387.237686</td>\n",
              "      <td>-389.016047</td>\n",
              "      <td>-365.800724</td>\n",
              "    </tr>\n",
              "    <tr>\n",
              "      <th>4</th>\n",
              "      <td>gdb_5</td>\n",
              "      <td>C#N</td>\n",
              "      <td>0.00000</td>\n",
              "      <td>44.593883</td>\n",
              "      <td>44.593883</td>\n",
              "      <td>2.8937</td>\n",
              "      <td>12.99</td>\n",
              "      <td>-0.3604</td>\n",
              "      <td>0.0191</td>\n",
              "      <td>0.3796</td>\n",
              "      <td>...</td>\n",
              "      <td>0.016601</td>\n",
              "      <td>-93.411888</td>\n",
              "      <td>-93.409370</td>\n",
              "      <td>-93.408425</td>\n",
              "      <td>-93.431246</td>\n",
              "      <td>6.278</td>\n",
              "      <td>-301.820534</td>\n",
              "      <td>-302.906752</td>\n",
              "      <td>-304.091489</td>\n",
              "      <td>-288.720028</td>\n",
              "    </tr>\n",
              "  </tbody>\n",
              "</table>\n",
              "<p>5 rows × 21 columns</p>\n",
              "</div>"
            ],
            "text/plain": [
              "  mol_id smiles          A           B           C      mu  alpha    homo  \\\n",
              "0  gdb_1      C  157.71180  157.709970  157.706990  0.0000  13.21 -0.3877   \n",
              "1  gdb_2      N  293.60975  293.541110  191.393970  1.6256   9.46 -0.2570   \n",
              "2  gdb_3      O  799.58812  437.903860  282.945450  1.8511   6.31 -0.2928   \n",
              "3  gdb_4    C#C    0.00000   35.610036   35.610036  0.0000  16.28 -0.2845   \n",
              "4  gdb_5    C#N    0.00000   44.593883   44.593883  2.8937  12.99 -0.3604   \n",
              "\n",
              "     lumo     gap  ...      zpve         u0       u298       h298       g298  \\\n",
              "0  0.1171  0.5048  ...  0.044749 -40.478930 -40.476062 -40.475117 -40.498597   \n",
              "1  0.0829  0.3399  ...  0.034358 -56.525887 -56.523026 -56.522082 -56.544961   \n",
              "2  0.0687  0.3615  ...  0.021375 -76.404702 -76.401867 -76.400922 -76.422349   \n",
              "3  0.0506  0.3351  ...  0.026841 -77.308427 -77.305527 -77.304583 -77.327429   \n",
              "4  0.0191  0.3796  ...  0.016601 -93.411888 -93.409370 -93.408425 -93.431246   \n",
              "\n",
              "      cv     u0_atom   u298_atom   h298_atom   g298_atom  \n",
              "0  6.469 -395.999595 -398.643290 -401.014647 -372.471772  \n",
              "1  6.316 -276.861363 -278.620271 -280.399259 -259.338802  \n",
              "2  6.002 -213.087624 -213.974294 -215.159658 -201.407171  \n",
              "3  8.574 -385.501997 -387.237686 -389.016047 -365.800724  \n",
              "4  6.278 -301.820534 -302.906752 -304.091489 -288.720028  \n",
              "\n",
              "[5 rows x 21 columns]"
            ]
          },
          "execution_count": 16,
          "metadata": {},
          "output_type": "execute_result"
        }
      ],
      "source": [
        "qm9.head()"
      ]
    },
    {
      "cell_type": "code",
      "execution_count": 17,
      "metadata": {
        "colab": {
          "base_uri": "https://localhost:8080/"
        },
        "id": "cwMjpHz2MHMt",
        "outputId": "b168f7b5-c672-4517-abb4-fa0d6b726f77"
      },
      "outputs": [
        {
          "data": {
            "text/plain": [
              "133885"
            ]
          },
          "execution_count": 17,
          "metadata": {},
          "output_type": "execute_result"
        }
      ],
      "source": [
        "len(qm9)"
      ]
    },
    {
      "cell_type": "code",
      "execution_count": 18,
      "metadata": {
        "id": "tJw2R1lEiClU"
      },
      "outputs": [],
      "source": [
        "# list = []\n",
        "# for i in range(20001,30001):\n",
        "#     list.append(i)\n",
        "# qm9 = qm9.iloc[list]"
      ]
    },
    {
      "cell_type": "code",
      "execution_count": 19,
      "metadata": {
        "id": "X6N4KacUiTiv"
      },
      "outputs": [],
      "source": [
        "# len(list)"
      ]
    },
    {
      "cell_type": "code",
      "execution_count": 20,
      "metadata": {
        "id": "LumeHTVZDb1E"
      },
      "outputs": [],
      "source": [
        "chemical_accuracy_dict = {'mu': [0.1],\n",
        "                          'alpha': [0.1],\n",
        "                          'homo': [0.043],\n",
        "                          'lumo': [0.043],\n",
        "                          'gap': [0.043],\n",
        "                          'zpve': [0.0012],\n",
        "                          'u0': [0.043],\n",
        "                          'u298': [0.043],\n",
        "                          'h298': [0.043],\n",
        "                          'g298': [0.043],\n",
        "                          'cv': [0.50]}"
      ]
    },
    {
      "cell_type": "code",
      "execution_count": 21,
      "metadata": {
        "id": "Y7ZrYYhbDepJ"
      },
      "outputs": [],
      "source": [
        "chemical_accuracy = pd.DataFrame(chemical_accuracy_dict)"
      ]
    },
    {
      "cell_type": "code",
      "execution_count": 22,
      "metadata": {
        "colab": {
          "base_uri": "https://localhost:8080/",
          "height": 81
        },
        "id": "ZVQz0KujDhTB",
        "outputId": "a3271b60-2e29-42a6-cbe4-7f32c0de55f0"
      },
      "outputs": [
        {
          "data": {
            "text/html": [
              "<div>\n",
              "<style scoped>\n",
              "    .dataframe tbody tr th:only-of-type {\n",
              "        vertical-align: middle;\n",
              "    }\n",
              "\n",
              "    .dataframe tbody tr th {\n",
              "        vertical-align: top;\n",
              "    }\n",
              "\n",
              "    .dataframe thead th {\n",
              "        text-align: right;\n",
              "    }\n",
              "</style>\n",
              "<table border=\"1\" class=\"dataframe\">\n",
              "  <thead>\n",
              "    <tr style=\"text-align: right;\">\n",
              "      <th></th>\n",
              "      <th>mu</th>\n",
              "      <th>alpha</th>\n",
              "      <th>homo</th>\n",
              "      <th>lumo</th>\n",
              "      <th>gap</th>\n",
              "      <th>zpve</th>\n",
              "      <th>u0</th>\n",
              "      <th>u298</th>\n",
              "      <th>h298</th>\n",
              "      <th>g298</th>\n",
              "      <th>cv</th>\n",
              "    </tr>\n",
              "  </thead>\n",
              "  <tbody>\n",
              "    <tr>\n",
              "      <th>0</th>\n",
              "      <td>0.1</td>\n",
              "      <td>0.1</td>\n",
              "      <td>0.043</td>\n",
              "      <td>0.043</td>\n",
              "      <td>0.043</td>\n",
              "      <td>0.0012</td>\n",
              "      <td>0.043</td>\n",
              "      <td>0.043</td>\n",
              "      <td>0.043</td>\n",
              "      <td>0.043</td>\n",
              "      <td>0.5</td>\n",
              "    </tr>\n",
              "  </tbody>\n",
              "</table>\n",
              "</div>"
            ],
            "text/plain": [
              "    mu  alpha   homo   lumo    gap    zpve     u0   u298   h298   g298   cv\n",
              "0  0.1    0.1  0.043  0.043  0.043  0.0012  0.043  0.043  0.043  0.043  0.5"
            ]
          },
          "execution_count": 22,
          "metadata": {},
          "output_type": "execute_result"
        }
      ],
      "source": [
        "chemical_accuracy"
      ]
    },
    {
      "cell_type": "code",
      "execution_count": 23,
      "metadata": {
        "id": "bYuo-HmADkSo"
      },
      "outputs": [],
      "source": [
        "structures = ['smiles']\n",
        "tasks = ['mu', 'alpha', 'homo', 'lumo', 'gap', 'zpve', 'u0', 'u298', 'h298', 'g298', 'cv']"
      ]
    },
    {
      "cell_type": "code",
      "execution_count": 24,
      "metadata": {
        "id": "9IsUZ_0QDnCs"
      },
      "outputs": [],
      "source": [
        "X = qm9[structures]\n",
        "y = qm9[tasks]"
      ]
    },
    {
      "cell_type": "code",
      "execution_count": 25,
      "metadata": {
        "colab": {
          "base_uri": "https://localhost:8080/",
          "height": 270
        },
        "id": "ZDnLtcZtDsWM",
        "outputId": "8f772960-726f-43a7-c041-65e2a832ef38"
      },
      "outputs": [
        {
          "data": {
            "text/html": [
              "<div>\n",
              "<style scoped>\n",
              "    .dataframe tbody tr th:only-of-type {\n",
              "        vertical-align: middle;\n",
              "    }\n",
              "\n",
              "    .dataframe tbody tr th {\n",
              "        vertical-align: top;\n",
              "    }\n",
              "\n",
              "    .dataframe thead th {\n",
              "        text-align: right;\n",
              "    }\n",
              "</style>\n",
              "<table border=\"1\" class=\"dataframe\">\n",
              "  <thead>\n",
              "    <tr style=\"text-align: right;\">\n",
              "      <th></th>\n",
              "      <th>mu</th>\n",
              "      <th>alpha</th>\n",
              "      <th>homo</th>\n",
              "      <th>lumo</th>\n",
              "      <th>gap</th>\n",
              "      <th>zpve</th>\n",
              "      <th>u0</th>\n",
              "      <th>u298</th>\n",
              "      <th>h298</th>\n",
              "      <th>g298</th>\n",
              "      <th>cv</th>\n",
              "    </tr>\n",
              "  </thead>\n",
              "  <tbody>\n",
              "    <tr>\n",
              "      <th>0</th>\n",
              "      <td>0.0000</td>\n",
              "      <td>13.21</td>\n",
              "      <td>-0.3877</td>\n",
              "      <td>0.1171</td>\n",
              "      <td>0.5048</td>\n",
              "      <td>0.044749</td>\n",
              "      <td>-40.478930</td>\n",
              "      <td>-40.476062</td>\n",
              "      <td>-40.475117</td>\n",
              "      <td>-40.498597</td>\n",
              "      <td>6.469</td>\n",
              "    </tr>\n",
              "    <tr>\n",
              "      <th>1</th>\n",
              "      <td>1.6256</td>\n",
              "      <td>9.46</td>\n",
              "      <td>-0.2570</td>\n",
              "      <td>0.0829</td>\n",
              "      <td>0.3399</td>\n",
              "      <td>0.034358</td>\n",
              "      <td>-56.525887</td>\n",
              "      <td>-56.523026</td>\n",
              "      <td>-56.522082</td>\n",
              "      <td>-56.544961</td>\n",
              "      <td>6.316</td>\n",
              "    </tr>\n",
              "    <tr>\n",
              "      <th>2</th>\n",
              "      <td>1.8511</td>\n",
              "      <td>6.31</td>\n",
              "      <td>-0.2928</td>\n",
              "      <td>0.0687</td>\n",
              "      <td>0.3615</td>\n",
              "      <td>0.021375</td>\n",
              "      <td>-76.404702</td>\n",
              "      <td>-76.401867</td>\n",
              "      <td>-76.400922</td>\n",
              "      <td>-76.422349</td>\n",
              "      <td>6.002</td>\n",
              "    </tr>\n",
              "    <tr>\n",
              "      <th>3</th>\n",
              "      <td>0.0000</td>\n",
              "      <td>16.28</td>\n",
              "      <td>-0.2845</td>\n",
              "      <td>0.0506</td>\n",
              "      <td>0.3351</td>\n",
              "      <td>0.026841</td>\n",
              "      <td>-77.308427</td>\n",
              "      <td>-77.305527</td>\n",
              "      <td>-77.304583</td>\n",
              "      <td>-77.327429</td>\n",
              "      <td>8.574</td>\n",
              "    </tr>\n",
              "    <tr>\n",
              "      <th>4</th>\n",
              "      <td>2.8937</td>\n",
              "      <td>12.99</td>\n",
              "      <td>-0.3604</td>\n",
              "      <td>0.0191</td>\n",
              "      <td>0.3796</td>\n",
              "      <td>0.016601</td>\n",
              "      <td>-93.411888</td>\n",
              "      <td>-93.409370</td>\n",
              "      <td>-93.408425</td>\n",
              "      <td>-93.431246</td>\n",
              "      <td>6.278</td>\n",
              "    </tr>\n",
              "  </tbody>\n",
              "</table>\n",
              "</div>"
            ],
            "text/plain": [
              "       mu  alpha    homo    lumo     gap      zpve         u0       u298  \\\n",
              "0  0.0000  13.21 -0.3877  0.1171  0.5048  0.044749 -40.478930 -40.476062   \n",
              "1  1.6256   9.46 -0.2570  0.0829  0.3399  0.034358 -56.525887 -56.523026   \n",
              "2  1.8511   6.31 -0.2928  0.0687  0.3615  0.021375 -76.404702 -76.401867   \n",
              "3  0.0000  16.28 -0.2845  0.0506  0.3351  0.026841 -77.308427 -77.305527   \n",
              "4  2.8937  12.99 -0.3604  0.0191  0.3796  0.016601 -93.411888 -93.409370   \n",
              "\n",
              "        h298       g298     cv  \n",
              "0 -40.475117 -40.498597  6.469  \n",
              "1 -56.522082 -56.544961  6.316  \n",
              "2 -76.400922 -76.422349  6.002  \n",
              "3 -77.304583 -77.327429  8.574  \n",
              "4 -93.408425 -93.431246  6.278  "
            ]
          },
          "execution_count": 25,
          "metadata": {},
          "output_type": "execute_result"
        }
      ],
      "source": [
        "y.head()"
      ]
    },
    {
      "cell_type": "code",
      "execution_count": 26,
      "metadata": {
        "colab": {
          "base_uri": "https://localhost:8080/",
          "height": 364
        },
        "id": "HigOqEqEDuuE",
        "outputId": "7a19fc78-4b95-44e2-d415-c2bd2f985177"
      },
      "outputs": [
        {
          "data": {
            "text/html": [
              "<div>\n",
              "<style scoped>\n",
              "    .dataframe tbody tr th:only-of-type {\n",
              "        vertical-align: middle;\n",
              "    }\n",
              "\n",
              "    .dataframe tbody tr th {\n",
              "        vertical-align: top;\n",
              "    }\n",
              "\n",
              "    .dataframe thead th {\n",
              "        text-align: right;\n",
              "    }\n",
              "</style>\n",
              "<table border=\"1\" class=\"dataframe\">\n",
              "  <thead>\n",
              "    <tr style=\"text-align: right;\">\n",
              "      <th></th>\n",
              "      <th>mu</th>\n",
              "      <th>alpha</th>\n",
              "      <th>homo</th>\n",
              "      <th>lumo</th>\n",
              "      <th>gap</th>\n",
              "      <th>zpve</th>\n",
              "      <th>u0</th>\n",
              "      <th>u298</th>\n",
              "      <th>h298</th>\n",
              "      <th>g298</th>\n",
              "      <th>cv</th>\n",
              "    </tr>\n",
              "  </thead>\n",
              "  <tbody>\n",
              "    <tr>\n",
              "      <th>count</th>\n",
              "      <td>133885.000000</td>\n",
              "      <td>133885.000000</td>\n",
              "      <td>133885.000000</td>\n",
              "      <td>133885.000000</td>\n",
              "      <td>133885.000000</td>\n",
              "      <td>133885.000000</td>\n",
              "      <td>133885.000000</td>\n",
              "      <td>133885.000000</td>\n",
              "      <td>133885.000000</td>\n",
              "      <td>133885.000000</td>\n",
              "      <td>133885.000000</td>\n",
              "    </tr>\n",
              "    <tr>\n",
              "      <th>mean</th>\n",
              "      <td>2.706037</td>\n",
              "      <td>75.191296</td>\n",
              "      <td>-0.239977</td>\n",
              "      <td>0.011124</td>\n",
              "      <td>0.251100</td>\n",
              "      <td>0.148524</td>\n",
              "      <td>-411.543985</td>\n",
              "      <td>-411.535513</td>\n",
              "      <td>-411.534569</td>\n",
              "      <td>-411.577397</td>\n",
              "      <td>31.600676</td>\n",
              "    </tr>\n",
              "    <tr>\n",
              "      <th>std</th>\n",
              "      <td>1.530394</td>\n",
              "      <td>8.187793</td>\n",
              "      <td>0.022131</td>\n",
              "      <td>0.046936</td>\n",
              "      <td>0.047519</td>\n",
              "      <td>0.033274</td>\n",
              "      <td>40.060230</td>\n",
              "      <td>40.060012</td>\n",
              "      <td>40.060012</td>\n",
              "      <td>40.060741</td>\n",
              "      <td>4.062471</td>\n",
              "    </tr>\n",
              "    <tr>\n",
              "      <th>min</th>\n",
              "      <td>0.000000</td>\n",
              "      <td>6.310000</td>\n",
              "      <td>-0.428600</td>\n",
              "      <td>-0.175000</td>\n",
              "      <td>0.024600</td>\n",
              "      <td>0.015951</td>\n",
              "      <td>-714.568061</td>\n",
              "      <td>-714.560153</td>\n",
              "      <td>-714.559209</td>\n",
              "      <td>-714.602138</td>\n",
              "      <td>6.002000</td>\n",
              "    </tr>\n",
              "    <tr>\n",
              "      <th>25%</th>\n",
              "      <td>1.588700</td>\n",
              "      <td>70.380000</td>\n",
              "      <td>-0.252500</td>\n",
              "      <td>-0.023800</td>\n",
              "      <td>0.216300</td>\n",
              "      <td>0.125289</td>\n",
              "      <td>-437.913936</td>\n",
              "      <td>-437.905942</td>\n",
              "      <td>-437.904997</td>\n",
              "      <td>-437.947682</td>\n",
              "      <td>28.942000</td>\n",
              "    </tr>\n",
              "    <tr>\n",
              "      <th>50%</th>\n",
              "      <td>2.500000</td>\n",
              "      <td>75.500000</td>\n",
              "      <td>-0.241000</td>\n",
              "      <td>0.012000</td>\n",
              "      <td>0.249400</td>\n",
              "      <td>0.148329</td>\n",
              "      <td>-417.864758</td>\n",
              "      <td>-417.857351</td>\n",
              "      <td>-417.856407</td>\n",
              "      <td>-417.895731</td>\n",
              "      <td>31.555000</td>\n",
              "    </tr>\n",
              "    <tr>\n",
              "      <th>75%</th>\n",
              "      <td>3.636100</td>\n",
              "      <td>80.520000</td>\n",
              "      <td>-0.228700</td>\n",
              "      <td>0.049200</td>\n",
              "      <td>0.288200</td>\n",
              "      <td>0.171150</td>\n",
              "      <td>-387.049166</td>\n",
              "      <td>-387.039746</td>\n",
              "      <td>-387.038802</td>\n",
              "      <td>-387.083279</td>\n",
              "      <td>34.276000</td>\n",
              "    </tr>\n",
              "    <tr>\n",
              "      <th>max</th>\n",
              "      <td>29.556400</td>\n",
              "      <td>196.620000</td>\n",
              "      <td>-0.101700</td>\n",
              "      <td>0.193500</td>\n",
              "      <td>0.622100</td>\n",
              "      <td>0.273944</td>\n",
              "      <td>-40.478930</td>\n",
              "      <td>-40.476062</td>\n",
              "      <td>-40.475117</td>\n",
              "      <td>-40.498597</td>\n",
              "      <td>46.969000</td>\n",
              "    </tr>\n",
              "  </tbody>\n",
              "</table>\n",
              "</div>"
            ],
            "text/plain": [
              "                  mu          alpha           homo           lumo  \\\n",
              "count  133885.000000  133885.000000  133885.000000  133885.000000   \n",
              "mean        2.706037      75.191296      -0.239977       0.011124   \n",
              "std         1.530394       8.187793       0.022131       0.046936   \n",
              "min         0.000000       6.310000      -0.428600      -0.175000   \n",
              "25%         1.588700      70.380000      -0.252500      -0.023800   \n",
              "50%         2.500000      75.500000      -0.241000       0.012000   \n",
              "75%         3.636100      80.520000      -0.228700       0.049200   \n",
              "max        29.556400     196.620000      -0.101700       0.193500   \n",
              "\n",
              "                 gap           zpve             u0           u298  \\\n",
              "count  133885.000000  133885.000000  133885.000000  133885.000000   \n",
              "mean        0.251100       0.148524    -411.543985    -411.535513   \n",
              "std         0.047519       0.033274      40.060230      40.060012   \n",
              "min         0.024600       0.015951    -714.568061    -714.560153   \n",
              "25%         0.216300       0.125289    -437.913936    -437.905942   \n",
              "50%         0.249400       0.148329    -417.864758    -417.857351   \n",
              "75%         0.288200       0.171150    -387.049166    -387.039746   \n",
              "max         0.622100       0.273944     -40.478930     -40.476062   \n",
              "\n",
              "                h298           g298             cv  \n",
              "count  133885.000000  133885.000000  133885.000000  \n",
              "mean     -411.534569    -411.577397      31.600676  \n",
              "std        40.060012      40.060741       4.062471  \n",
              "min      -714.559209    -714.602138       6.002000  \n",
              "25%      -437.904997    -437.947682      28.942000  \n",
              "50%      -417.856407    -417.895731      31.555000  \n",
              "75%      -387.038802    -387.083279      34.276000  \n",
              "max       -40.475117     -40.498597      46.969000  "
            ]
          },
          "execution_count": 26,
          "metadata": {},
          "output_type": "execute_result"
        }
      ],
      "source": [
        "y.describe()"
      ]
    },
    {
      "cell_type": "code",
      "execution_count": 27,
      "metadata": {
        "id": "oX5xQ866DxpQ"
      },
      "outputs": [],
      "source": [
        "scaler = StandardScaler()"
      ]
    },
    {
      "cell_type": "code",
      "execution_count": 28,
      "metadata": {
        "id": "ZLK_yZu8D2P0"
      },
      "outputs": [],
      "source": [
        "y = pd.DataFrame(scaler.fit_transform(y), index=y.index, columns=y.columns)"
      ]
    },
    {
      "cell_type": "code",
      "execution_count": 29,
      "metadata": {
        "colab": {
          "base_uri": "https://localhost:8080/",
          "height": 364
        },
        "id": "IYHAg1gCD4nA",
        "outputId": "770960e5-9152-4c37-92a3-05638cfe9e49"
      },
      "outputs": [
        {
          "data": {
            "text/html": [
              "<div>\n",
              "<style scoped>\n",
              "    .dataframe tbody tr th:only-of-type {\n",
              "        vertical-align: middle;\n",
              "    }\n",
              "\n",
              "    .dataframe tbody tr th {\n",
              "        vertical-align: top;\n",
              "    }\n",
              "\n",
              "    .dataframe thead th {\n",
              "        text-align: right;\n",
              "    }\n",
              "</style>\n",
              "<table border=\"1\" class=\"dataframe\">\n",
              "  <thead>\n",
              "    <tr style=\"text-align: right;\">\n",
              "      <th></th>\n",
              "      <th>mu</th>\n",
              "      <th>alpha</th>\n",
              "      <th>homo</th>\n",
              "      <th>lumo</th>\n",
              "      <th>gap</th>\n",
              "      <th>zpve</th>\n",
              "      <th>u0</th>\n",
              "      <th>u298</th>\n",
              "      <th>h298</th>\n",
              "      <th>g298</th>\n",
              "      <th>cv</th>\n",
              "    </tr>\n",
              "  </thead>\n",
              "  <tbody>\n",
              "    <tr>\n",
              "      <th>count</th>\n",
              "      <td>1.338850e+05</td>\n",
              "      <td>1.338850e+05</td>\n",
              "      <td>1.338850e+05</td>\n",
              "      <td>1.338850e+05</td>\n",
              "      <td>1.338850e+05</td>\n",
              "      <td>1.338850e+05</td>\n",
              "      <td>1.338850e+05</td>\n",
              "      <td>1.338850e+05</td>\n",
              "      <td>1.338850e+05</td>\n",
              "      <td>1.338850e+05</td>\n",
              "      <td>1.338850e+05</td>\n",
              "    </tr>\n",
              "    <tr>\n",
              "      <th>mean</th>\n",
              "      <td>7.132759e-17</td>\n",
              "      <td>-4.245690e-16</td>\n",
              "      <td>6.606293e-16</td>\n",
              "      <td>-6.113793e-17</td>\n",
              "      <td>-3.328621e-16</td>\n",
              "      <td>-7.812069e-17</td>\n",
              "      <td>6.249655e-16</td>\n",
              "      <td>-1.372207e-15</td>\n",
              "      <td>-1.766207e-16</td>\n",
              "      <td>7.540345e-16</td>\n",
              "      <td>1.148035e-15</td>\n",
              "    </tr>\n",
              "    <tr>\n",
              "      <th>std</th>\n",
              "      <td>1.000004e+00</td>\n",
              "      <td>1.000004e+00</td>\n",
              "      <td>1.000004e+00</td>\n",
              "      <td>1.000004e+00</td>\n",
              "      <td>1.000004e+00</td>\n",
              "      <td>1.000004e+00</td>\n",
              "      <td>1.000004e+00</td>\n",
              "      <td>1.000004e+00</td>\n",
              "      <td>1.000004e+00</td>\n",
              "      <td>1.000004e+00</td>\n",
              "      <td>1.000004e+00</td>\n",
              "    </tr>\n",
              "    <tr>\n",
              "      <th>min</th>\n",
              "      <td>-1.768203e+00</td>\n",
              "      <td>-8.412713e+00</td>\n",
              "      <td>-8.522900e+00</td>\n",
              "      <td>-3.965489e+00</td>\n",
              "      <td>-4.766551e+00</td>\n",
              "      <td>-3.984321e+00</td>\n",
              "      <td>-7.564240e+00</td>\n",
              "      <td>-7.564296e+00</td>\n",
              "      <td>-7.564296e+00</td>\n",
              "      <td>-7.564160e+00</td>\n",
              "      <td>-6.301280e+00</td>\n",
              "    </tr>\n",
              "    <tr>\n",
              "      <th>25%</th>\n",
              "      <td>-7.301006e-01</td>\n",
              "      <td>-5.876204e-01</td>\n",
              "      <td>-5.658624e-01</td>\n",
              "      <td>-7.440738e-01</td>\n",
              "      <td>-7.323509e-01</td>\n",
              "      <td>-6.983094e-01</td>\n",
              "      <td>-6.582601e-01</td>\n",
              "      <td>-6.582756e-01</td>\n",
              "      <td>-6.582756e-01</td>\n",
              "      <td>-6.582600e-01</td>\n",
              "      <td>-6.544503e-01</td>\n",
              "    </tr>\n",
              "    <tr>\n",
              "      <th>50%</th>\n",
              "      <td>-1.346308e-01</td>\n",
              "      <td>3.770307e-02</td>\n",
              "      <td>-4.623760e-02</td>\n",
              "      <td>1.866871e-02</td>\n",
              "      <td>-3.578319e-02</td>\n",
              "      <td>-5.872165e-03</td>\n",
              "      <td>-1.577823e-01</td>\n",
              "      <td>-1.578098e-01</td>\n",
              "      <td>-1.578098e-01</td>\n",
              "      <td>-1.577194e-01</td>\n",
              "      <td>-1.124342e-02</td>\n",
              "    </tr>\n",
              "    <tr>\n",
              "      <th>75%</th>\n",
              "      <td>6.077298e-01</td>\n",
              "      <td>6.508132e-01</td>\n",
              "      <td>5.095351e-01</td>\n",
              "      <td>8.112391e-01</td>\n",
              "      <td>7.807373e-01</td>\n",
              "      <td>6.799833e-01</td>\n",
              "      <td>6.114520e-01</td>\n",
              "      <td>6.114791e-01</td>\n",
              "      <td>6.114791e-01</td>\n",
              "      <td>6.114268e-01</td>\n",
              "      <td>6.585484e-01</td>\n",
              "    </tr>\n",
              "    <tr>\n",
              "      <th>max</th>\n",
              "      <td>1.754480e+01</td>\n",
              "      <td>1.483051e+01</td>\n",
              "      <td>6.248001e+00</td>\n",
              "      <td>3.885645e+00</td>\n",
              "      <td>7.807443e+00</td>\n",
              "      <td>3.769323e+00</td>\n",
              "      <td>9.262714e+00</td>\n",
              "      <td>9.262624e+00</td>\n",
              "      <td>9.262624e+00</td>\n",
              "      <td>9.262939e+00</td>\n",
              "      <td>3.783013e+00</td>\n",
              "    </tr>\n",
              "  </tbody>\n",
              "</table>\n",
              "</div>"
            ],
            "text/plain": [
              "                 mu         alpha          homo          lumo           gap  \\\n",
              "count  1.338850e+05  1.338850e+05  1.338850e+05  1.338850e+05  1.338850e+05   \n",
              "mean   7.132759e-17 -4.245690e-16  6.606293e-16 -6.113793e-17 -3.328621e-16   \n",
              "std    1.000004e+00  1.000004e+00  1.000004e+00  1.000004e+00  1.000004e+00   \n",
              "min   -1.768203e+00 -8.412713e+00 -8.522900e+00 -3.965489e+00 -4.766551e+00   \n",
              "25%   -7.301006e-01 -5.876204e-01 -5.658624e-01 -7.440738e-01 -7.323509e-01   \n",
              "50%   -1.346308e-01  3.770307e-02 -4.623760e-02  1.866871e-02 -3.578319e-02   \n",
              "75%    6.077298e-01  6.508132e-01  5.095351e-01  8.112391e-01  7.807373e-01   \n",
              "max    1.754480e+01  1.483051e+01  6.248001e+00  3.885645e+00  7.807443e+00   \n",
              "\n",
              "               zpve            u0          u298          h298          g298  \\\n",
              "count  1.338850e+05  1.338850e+05  1.338850e+05  1.338850e+05  1.338850e+05   \n",
              "mean  -7.812069e-17  6.249655e-16 -1.372207e-15 -1.766207e-16  7.540345e-16   \n",
              "std    1.000004e+00  1.000004e+00  1.000004e+00  1.000004e+00  1.000004e+00   \n",
              "min   -3.984321e+00 -7.564240e+00 -7.564296e+00 -7.564296e+00 -7.564160e+00   \n",
              "25%   -6.983094e-01 -6.582601e-01 -6.582756e-01 -6.582756e-01 -6.582600e-01   \n",
              "50%   -5.872165e-03 -1.577823e-01 -1.578098e-01 -1.578098e-01 -1.577194e-01   \n",
              "75%    6.799833e-01  6.114520e-01  6.114791e-01  6.114791e-01  6.114268e-01   \n",
              "max    3.769323e+00  9.262714e+00  9.262624e+00  9.262624e+00  9.262939e+00   \n",
              "\n",
              "                 cv  \n",
              "count  1.338850e+05  \n",
              "mean   1.148035e-15  \n",
              "std    1.000004e+00  \n",
              "min   -6.301280e+00  \n",
              "25%   -6.544503e-01  \n",
              "50%   -1.124342e-02  \n",
              "75%    6.585484e-01  \n",
              "max    3.783013e+00  "
            ]
          },
          "execution_count": 29,
          "metadata": {},
          "output_type": "execute_result"
        }
      ],
      "source": [
        "y.describe()"
      ]
    },
    {
      "cell_type": "code",
      "execution_count": 30,
      "metadata": {
        "id": "xstg_Yf7GTup"
      },
      "outputs": [],
      "source": [
        "from sklearn.model_selection import train_test_split"
      ]
    },
    {
      "cell_type": "code",
      "execution_count": 31,
      "metadata": {
        "id": "WKNRLE-3GVhn"
      },
      "outputs": [],
      "source": [
        "X_train, X_val, y_train, y_val = train_test_split(\n",
        "    X, y, test_size=VALID_SIZE, random_state=143)"
      ]
    },
    {
      "cell_type": "code",
      "execution_count": 32,
      "metadata": {
        "id": "1CmJtC4VGaD_"
      },
      "outputs": [],
      "source": [
        "dfn=pd.DataFrame(columns=['col1','col2','col3','col4','col5','col6','col7','col8','col9','col10','col11'])"
      ]
    },
    {
      "cell_type": "code",
      "execution_count": 33,
      "metadata": {
        "colab": {
          "base_uri": "https://localhost:8080/",
          "height": 49
        },
        "id": "BCOiTUlcGaD_",
        "outputId": "2268d410-cd3a-4eaf-bc9a-bba9cb256d27"
      },
      "outputs": [
        {
          "data": {
            "text/html": [
              "<div>\n",
              "<style scoped>\n",
              "    .dataframe tbody tr th:only-of-type {\n",
              "        vertical-align: middle;\n",
              "    }\n",
              "\n",
              "    .dataframe tbody tr th {\n",
              "        vertical-align: top;\n",
              "    }\n",
              "\n",
              "    .dataframe thead th {\n",
              "        text-align: right;\n",
              "    }\n",
              "</style>\n",
              "<table border=\"1\" class=\"dataframe\">\n",
              "  <thead>\n",
              "    <tr style=\"text-align: right;\">\n",
              "      <th></th>\n",
              "      <th>col1</th>\n",
              "      <th>col2</th>\n",
              "      <th>col3</th>\n",
              "      <th>col4</th>\n",
              "      <th>col5</th>\n",
              "      <th>col6</th>\n",
              "      <th>col7</th>\n",
              "      <th>col8</th>\n",
              "      <th>col9</th>\n",
              "      <th>col10</th>\n",
              "      <th>col11</th>\n",
              "    </tr>\n",
              "  </thead>\n",
              "  <tbody>\n",
              "  </tbody>\n",
              "</table>\n",
              "</div>"
            ],
            "text/plain": [
              "Empty DataFrame\n",
              "Columns: [col1, col2, col3, col4, col5, col6, col7, col8, col9, col10, col11]\n",
              "Index: []"
            ]
          },
          "execution_count": 33,
          "metadata": {},
          "output_type": "execute_result"
        }
      ],
      "source": [
        "dfn"
      ]
    },
    {
      "cell_type": "markdown",
      "metadata": {
        "id": "SGpl4PmFvHDO"
      },
      "source": [
        "## Code"
      ]
    },
    {
      "cell_type": "code",
      "execution_count": 34,
      "metadata": {
        "id": "ZIepB54oD7O9"
      },
      "outputs": [],
      "source": [
        "def batch_mse_loss(pred, true):\n",
        "    return F.mse_loss(pred, true) / BATCH_SIZE"
      ]
    },
    {
      "cell_type": "code",
      "execution_count": 35,
      "metadata": {
        "id": "ciZEX2jfD9qR"
      },
      "outputs": [],
      "source": [
        "def valid_mse_loss(pred, true):\n",
        "    return (F.mse_loss(pred, true)).detach() / VALID_SIZE"
      ]
    },
    {
      "cell_type": "code",
      "execution_count": 36,
      "metadata": {
        "id": "zIw_euSlD_6Y"
      },
      "outputs": [],
      "source": [
        "scale_batch_to_train = BATCH_SIZE / TRAIN_SIZE"
      ]
    },
    {
      "cell_type": "code",
      "execution_count": 37,
      "metadata": {
        "id": "RnMRohhY8wyA"
      },
      "outputs": [],
      "source": [
        "#what does this do?\n",
        "class MasterEdge(nn.Module):\n",
        "    \n",
        "    def __init__(self):\n",
        "        super(MasterEdge, self).__init__()\n",
        "        \n",
        "        self.l1 = nn.Linear(D, P)\n",
        "        nn.init.kaiming_normal_(self.l1.weight)\n",
        "        self.l2 = nn.Linear(P, 2*E)\n",
        "        nn.init.kaiming_normal_(self.l2.weight)\n",
        "        self.l3 = nn.Linear(2*E, E)\n",
        "        nn.init.kaiming_normal_(self.l3.weight)\n",
        "        \n",
        "    def forward(self, x):\n",
        "        return F.elu(self.l3(F.elu(self.l2(F.elu(self.l1(x))))))"
      ]
    },
    {
      "cell_type": "code",
      "execution_count": 38,
      "metadata": {
        "id": "syTT0ZcU8xli"
      },
      "outputs": [],
      "source": [
        "master_edge_learner = MasterEdge()"
      ]
    },
    {
      "cell_type": "code",
      "execution_count": 39,
      "metadata": {
        "id": "Y49EqkUUgxG1"
      },
      "outputs": [],
      "source": [
        "# def dfs(adjacency_matrix,visited_array,i):\n",
        "#   visited_array[i] = 1\n",
        "#   for j in range(len(visited_array)):\n",
        "#     if(!visited_array[j] && adjacency_matrix[i][j]==1):\n",
        "#       dfs(adjacency_matrix,visited_matrix,j)"
      ]
    },
    {
      "cell_type": "code",
      "execution_count": 40,
      "metadata": {
        "id": "XkLLwTQOmspZ"
      },
      "outputs": [],
      "source": [
        "#printing all cycles in an undirected graph\n",
        "#Function to mark the vertex with different colors for different cycles\n",
        "def dfs_cycle(u,p,color,mark,par,cyclenumber,g):\n",
        "  #already (completely) visited vertex.\n",
        "  if(color[u]==2):\n",
        "    return\n",
        "  #seen vertex, but was not completely visited -> cycle detected. \n",
        "  #backtrack based on parents to find the complete cycle.\n",
        "  if(color[u]==1):\n",
        "    cyclenumber = cyclenumber + 1\n",
        "    cur = p\n",
        "    mark[cur] = cyclenumber\n",
        "    #backtrack the vertex which are\n",
        "    #in the current cycle thats found\n",
        "    while(cur!=u):\n",
        "      #print(cur,u)\n",
        "      cur = par[cur]\n",
        "      mark[cur] = cyclenumber\n",
        "    return\n",
        "  \n",
        "  par[u] = p\n",
        "  #partially visited.\n",
        "  color[u] = 1\n",
        "  #simple dfs on graph\n",
        "  for j in range(len(g[u])):\n",
        "    if(g[u][j][1]==par[u]):\n",
        "      continue\n",
        "    dfs_cycle(g[u][j][1],u,color,mark,par,cyclenumber,g)\n",
        "  #completely visited \n",
        "  color[u]=2"
      ]
    },
    {
      "cell_type": "code",
      "execution_count": 41,
      "metadata": {
        "id": "FqYsPinnFS3r"
      },
      "outputs": [],
      "source": [
        "#function to print all cycles \n",
        "def cycles_list_function(edges_1,mark,cycle_number,cycles):\n",
        "    #push the edges that into the cycle adjacency list\n",
        "  for i in range(edges_1):\n",
        "    if(mark[i]!=0):\n",
        "      #print(mark[i],i)\n",
        "      cycles[mark[i]].append(i)\n",
        "  #for i in range(cycle_number+1):\n",
        "    #print(cycles[i])"
      ]
    },
    {
      "cell_type": "code",
      "execution_count": 42,
      "metadata": {
        "id": "5GJltqNVEN_b"
      },
      "outputs": [],
      "source": [
        "def construct_multigraph(smile):\n",
        "  g = OrderedDict({})\n",
        "  h = OrderedDict({})\n",
        "  #h[-1] = 0\n",
        "  molecule = Chem.MolFromSmiles(smile)\n",
        "  #mol_matrix = [['0','1','0','0','0'],['1','0','2','0','1'],['0','2','0','1','1'],['0','0','1','0','0'],['0','1','1','0','0']]\n",
        "  for i in range(molecule.GetNumAtoms()):\n",
        "    atom_i = molecule.GetAtomWithIdx(i)\n",
        "    atom_i_featurized = dc.feat.graph_features.atom_features(atom_i)\n",
        "    atom_i_tensorized = torch.FloatTensor(atom_i_featurized).view(1, D)\n",
        "    h[i] = atom_i_tensorized\n",
        "    #h[-1] += h[i]\n",
        "    master_edge = master_edge_learner(h[i])\n",
        "    g.setdefault(i, [])\n",
        "    #.append((master_edge, -1))\n",
        "    #g.setdefault(-1, [])\n",
        "    #.append((master_edge, i))\n",
        "    for j in range(molecule.GetNumAtoms()):\n",
        "        bond_ij = molecule.GetBondBetweenAtoms(i, j)\n",
        "        if bond_ij: # bond_ij is None when there is no bond.\n",
        "            #atom_j = molecule.GetAtomWithIdx(j)\n",
        "            #atom_j_featurized = dc.feat.graph_features.atom_features(atom_j)\n",
        "            #atom_j_tensorized = torch.FloatTensor(atom_j_featurized).view(1, 75)\n",
        "            bond_ij_featurized = dc.feat.graph_features.bond_features(bond_ij).astype(int)\n",
        "            bond_ij_tensorized = torch.FloatTensor(bond_ij_featurized).view(1, E)\n",
        "            g.setdefault(i, []).append((bond_ij_tensorized, j))\n",
        "  #novelty   \n",
        "  edges = molecule.GetNumBonds()\n",
        "  mark = [0]*molecule.GetNumAtoms()\n",
        "  par = [-2]*molecule.GetNumAtoms()\n",
        "  color = [0]*molecule.GetNumAtoms()\n",
        "  cyclenumber = 0\n",
        "  cycles_list = [[],[],[]]\n",
        "  dfs_cycle(0, -1 , color, mark, par, cyclenumber,g)\n",
        "  cycles_list_function(molecule.GetNumAtoms(),mark,max(mark),cycles_list)\n",
        "  #print(max(mark))\n",
        "  num_of_atoms = molecule.GetNumBonds()\n",
        "  for i in range(len(cycles_list)):\n",
        "    if(len(cycles_list[i])>=3):\n",
        "      h[len(h)]=0\n",
        "      for j in range(len(cycles_list[i])):\n",
        "        #print(len(h)-1)\n",
        "        h[len(h)-1]+=h[cycles_list[i][j]] #semi master node\n",
        "        master_edge = master_edge_learner(h[cycles_list[i][j]])\n",
        "        g[cycles_list[i][j]].append((master_edge, len(h)-1))\n",
        "        g.setdefault(len(h)-1, []).append((master_edge, cycles_list[i][j]))\n",
        "  h[-1]=0\n",
        "  #print(cycles_list)\n",
        "  for x in range (num_of_atoms,len(h)-1):\n",
        "    #print(len(h))\n",
        "    h[-1]+=h[x]\n",
        "    master_edge = master_edge_learner(h[x])\n",
        "    g[x].append((master_edge, -1))\n",
        "    g.setdefault(-1, []).append((master_edge, x))\n",
        "  return g,h"
      ]
    },
    {
      "cell_type": "code",
      "execution_count": 43,
      "metadata": {
        "id": "jl0-_VOTJVNL"
      },
      "outputs": [],
      "source": [
        "# def construct_multigraph(smile):\n",
        "#     g = OrderedDict({})\n",
        "#     h = OrderedDict({})\n",
        "#     h[-1] = 0\n",
        "#     molecule = Chem.MolFromSmiles(smile)\n",
        "#     for i in range(molecule.GetNumAtoms()):\n",
        "#         atom_i = molecule.GetAtomWithIdx(i)\n",
        "#         atom_i_featurized = dc.feat.graph_features.atom_features(atom_i)\n",
        "#         atom_i_tensorized = torch.FloatTensor(atom_i_featurized).view(1, D)\n",
        "#         h[i] = atom_i_tensorized\n",
        "#         h[-1] += h[i]\n",
        "#         master_edge = master_edge_learner(h[i])\n",
        "#         g.setdefault(i, []).append((master_edge, -1))\n",
        "#         g.setdefault(-1, []).append((master_edge, i))\n",
        "#         for j in range(molecule.GetNumAtoms()):\n",
        "#             bond_ij = molecule.GetBondBetweenAtoms(i, j)\n",
        "#             if bond_ij: # bond_ij is None when there is no bond.\n",
        "#                 #atom_j = molecule.GetAtomWithIdx(j)\n",
        "#                 #atom_j_featurized = dc.feat.graph_features.atom_features(atom_j)\n",
        "#                 #atom_j_tensorized = torch.FloatTensor(atom_j_featurized).view(1, 75)\n",
        "#                 bond_ij_featurized = dc.feat.graph_features.bond_features(bond_ij).astype(int)\n",
        "#                 bond_ij_tensorized = torch.FloatTensor(bond_ij_featurized).view(1, E)\n",
        "#                 g.setdefault(i, []).append((bond_ij_tensorized, j))\n",
        "#     return g, h"
      ]
    },
    {
      "cell_type": "code",
      "execution_count": 44,
      "metadata": {
        "id": "aH0cfJSMF12A"
      },
      "outputs": [],
      "source": [
        "class EdgeMappingNeuralNetwork(nn.Module):\n",
        "    \n",
        "    def __init__(self):\n",
        "        super(EdgeMappingNeuralNetwork, self).__init__()\n",
        "        \n",
        "        self.fc1 = nn.Linear(E, D)\n",
        "        nn.init.kaiming_normal_(self.fc1.weight)\n",
        "        self.fc2 = nn.Linear(1, D)\n",
        "        nn.init.kaiming_normal_(self.fc2.weight)\n",
        "        \n",
        "    def f1(self, x):\n",
        "        return F.elu(self.fc1(x))\n",
        "        \n",
        "    def f2(self, x):\n",
        "        return F.elu(self.fc2(x.permute(1, 0)))\n",
        "        \n",
        "    def forward(self, x):\n",
        "        return self.f2(self.f1(x))"
      ]
    },
    {
      "cell_type": "code",
      "execution_count": 45,
      "metadata": {
        "id": "hO2b_YPnF52Y"
      },
      "outputs": [],
      "source": [
        "class MessagePhase(nn.Module):\n",
        "    \n",
        "    def __init__(self):\n",
        "        super(MessagePhase, self).__init__()\n",
        "        self.A = EdgeMappingNeuralNetwork()\n",
        "        self.U = {i:nn.GRUCell(D, D) for i in range(T)}\n",
        "        \n",
        "    def forward(self, smile):\n",
        "        \n",
        "        g, h = construct_multigraph(smile)\n",
        "        g0, h0 = construct_multigraph(smile)\n",
        "        \n",
        "        for k in range(T):\n",
        "            h = OrderedDict(\n",
        "                {\n",
        "                    v:\n",
        "                    self.U[k](\n",
        "                        sum(torch.matmul(h[w], self.A(e_vw)) for e_vw, w in en), \n",
        "                        h[v]\n",
        "                    )\n",
        "                    for v, en in g.items()\n",
        "                }\n",
        "            )\n",
        "        \n",
        "        return h, h0"
      ]
    },
    {
      "cell_type": "code",
      "execution_count": 46,
      "metadata": {
        "id": "TgzNuFNgF8KB"
      },
      "outputs": [],
      "source": [
        "class Readout(nn.Module):\n",
        "    \n",
        "    def __init__(self):\n",
        "        super(Readout, self).__init__()\n",
        "        \n",
        "        self.i1 = nn.Linear(2*D, 2*P)\n",
        "        nn.init.kaiming_normal_(self.i1.weight)\n",
        "        self.i2 = nn.Linear(2*P, P)\n",
        "        nn.init.kaiming_normal_(self.i2.weight)\n",
        "        \n",
        "        self.j1 = nn.Linear(D, P)\n",
        "        nn.init.kaiming_normal_(self.j1.weight)\n",
        "        \n",
        "    def i(self, h_v, h0_v):\n",
        "        return F.elu(self.i2(F.elu(self.i1(torch.cat([h_v, h0_v], dim=1)))))\n",
        "    \n",
        "    def j(self, h_v):        \n",
        "        return F.elu(self.j1(h_v))\n",
        "\n",
        "    def r(self, h, h0):\n",
        "        return sum(torch.sigmoid(self.i(h[v], h0[v])) * self.j(h[v]) for v in h.keys())\n",
        "                      \n",
        "    def forward(self, h, h0):\n",
        "        return self.r(h, h0)"
      ]
    },
    {
      "cell_type": "code",
      "execution_count": 47,
      "metadata": {
        "id": "gMKeY2y7F_Ne"
      },
      "outputs": [],
      "source": [
        "class MPNN(nn.Module):\n",
        "    def __init__(self):\n",
        "        super(MPNN, self).__init__()\n",
        "        \n",
        "        self.M = MessagePhase()\n",
        "        self.R = Readout()\n",
        "        \n",
        "        self.p1 = nn.Linear(P, P)\n",
        "        nn.init.kaiming_normal_(self.p1.weight)\n",
        "        self.p2 = nn.Linear(P, P)\n",
        "        nn.init.kaiming_normal_(self.p2.weight)\n",
        "        self.p3 = nn.Linear(P, V)\n",
        "        nn.init.kaiming_normal_(self.p3.weight)\n",
        "        \n",
        "    def p(self, ro):\n",
        "        return F.elu(self.p3(F.elu(self.p2(F.elu(self.p1(ro))))))\n",
        "    \n",
        "    def forward(self, smile):\n",
        "        h, h0 = self.M(smile)\n",
        "        embed = self.R(h, h0)\n",
        "        return self.p(embed)"
      ]
    },
    {
      "cell_type": "code",
      "execution_count": 48,
      "metadata": {
        "id": "-dXofTZlGYhV"
      },
      "outputs": [],
      "source": [
        "model = MPNN()\n",
        "optimizer = optim.Adam(model.parameters(), lr=LR)"
      ]
    },
    {
      "cell_type": "code",
      "execution_count": 49,
      "metadata": {
        "id": "rUVgi9rWL_4j",
        "scrolled": true
      },
      "outputs": [],
      "source": [
        "y_loss = {}  # loss history\n",
        "y_loss['train'] = []\n",
        "y_loss['val'] = []\n",
        "y_acc = {}\n",
        "for i in range(len(tasks)):\n",
        "    y_acc[tasks[i]] = []\n",
        "\n",
        "x_epoch = []"
      ]
    },
    {
      "cell_type": "code",
      "execution_count": 50,
      "metadata": {
        "colab": {
          "base_uri": "https://localhost:8080/",
          "height": 281
        },
        "id": "TPi57Uolhsez",
        "outputId": "d6e1802a-2a2b-4c2e-c6bc-6fdfe1345408"
      },
      "outputs": [
        {
          "data": {
            "image/png": "[encoded data removed]",
            "text/plain": [
              "<Figure size 432x288 with 2 Axes>"
            ]
          },
          "metadata": {
            "needs_background": "light"
          },
          "output_type": "display_data"
        }
      ],
      "source": [
        "fig = plt.figure()\n",
        "ax0 = fig.add_subplot(121, title=\"loss\")\n",
        "ax1 = fig.add_subplot(122, title=\"error\")\n",
        "#ax1.set_color_cycle([cm(1.*i/len(tasks)) for i in range(len(tasks))])\n",
        "colors = plt.cm.Spectral(np.linspace(0,1,len(tasks)))\n",
        "ax1.set_prop_cycle('color', colors)"
      ]
    },
    {
      "cell_type": "code",
      "execution_count": 51,
      "metadata": {
        "id": "UdO-IqvvhvYv"
      },
      "outputs": [],
      "source": [
        "def draw_curve(current_epoch):\n",
        "    x_epoch.append(current_epoch)\n",
        "    ax0.plot(x_epoch, y_loss['train'], 'bo-', label='train')\n",
        "    ax0.plot(x_epoch, y_loss['val'], 'ro-', label='val')\n",
        "    for i in range(len(tasks)):\n",
        "        ax1.plot(x_epoch, y_acc[tasks[i]], label= tasks[i])\n",
        "    if current_epoch == 0:\n",
        "        ax0.legend()\n",
        "        ax1.legend()\n",
        "    fig.savefig(os.path.join('./lossGraphs', 'train.jpg'))"
      ]
    },
    {
      "cell_type": "code",
      "execution_count": 52,
      "metadata": {
        "colab": {
          "base_uri": "https://localhost:8080/",
          "height": 835,
          "referenced_widgets": [
            "8bd9da6128744894866f2a48efab5e28",
            "a085718f77c34f83821531470ab6f590",
            "e1dbb264a1da4690ab16450bf728aecd",
            "72601868165443d99c0119e94fd12a7a",
            "157dc25ac36f4265a7bae466dc055769",
            "a7eb93cd79c34d3c8775be88584d70a1",
            "945af74e3d4d4e4981d904e562151b80",
            "2c2e70c192b84d59a054c6309c4d6f38",
            "018af4f2a0c14a2988f4eeff9e5f10f2",
            "20131bfb19184dd7a5c69a77bb5389de",
            "7bdac1f7fcf34a5cbd477521bef7b993",
            "a217a8278c4940c28678faf1c6dbec71",
            "573ea51c5e834917bb5060ff875b0d19",
            "b5971d65e10c40919ddcacef27f91805",
            "85e561d9d7b542de97eecd21d6cf6e86",
            "a5d67f4602784d0d8d0f7dac08c77a84",
            "80425fe7fedf493cb892da2139891565",
            "dc4471b6f2914a59bcc0378a701230cd",
            "9d018f52e2df40e58b45cfa6d2cee58e",
            "d6883bda5fae41349cd7108dde77c5ec",
            "41e44ae5e6914232985d8052a1f86492",
            "c2364ad7f265439a8231736e2481e5c2",
            "e69db405e69a406d9b5e0a18cf032e22",
            "0ed8b50325434890ae4af227b8e47f31",
            "cc6bf03f81eb4f4a88e4c96ac4ed9cc5",
            "81df335f8eac4faca63adfaf28575465",
            "4167d5c310ec478a8a491d2a894b4ac1"
          ]
        },
        "id": "enKhufn3GbXr",
        "outputId": "15ee91af-3e08-400e-a87c-a5511cc98506",
        "scrolled": true
      },
      "outputs": [
        {
          "name": "stdout",
          "output_type": "stream",
          "text": [
            "epoch [1/20]\n"
          ]
        },
        {
          "data": {
            "application/vnd.jupyter.widget-view+json": {
              "model_id": "1e02e1e8fe8a490da50b1e9098554b97",
              "version_major": 2,
              "version_minor": 0
            },
            "text/plain": [
              "FloatProgress(value=0.0, max=100000.0)"
            ]
          },
          "metadata": {},
          "output_type": "display_data"
        },
        {
          "data": {
            "application/vnd.jupyter.widget-view+json": {
              "model_id": "bc2811f5d67148d7b527b40071dcfbeb",
              "version_major": 2,
              "version_minor": 0
            },
            "text/plain": [
              "FloatProgress(value=0.0, max=30000.0)"
            ]
          },
          "metadata": {},
          "output_type": "display_data"
        },
        {
          "name": "stdout",
          "output_type": "stream",
          "text": [
            "train_loss [0.37]\n",
            "valid_loss [0.22]\n",
            "train_loss [0.37]\n",
            "valid_loss [0.22]\n",
            "[[9.31793337e-01 2.53851739e+00 1.02589023e-02 1.44715841e-02\n",
            "  1.54645669e-02 7.28800807e-03 9.62026610e+00 8.84164091e+00\n",
            "  8.67689514e+00 8.50876548e+00 1.19121798e+00]]\n",
            "epoch [2/20]\n"
          ]
        },
        {
          "data": {
            "application/vnd.jupyter.widget-view+json": {
              "model_id": "0a383ca1db494ed192ee02498e3b6b5f",
              "version_major": 2,
              "version_minor": 0
            },
            "text/plain": [
              "FloatProgress(value=0.0, max=100000.0)"
            ]
          },
          "metadata": {},
          "output_type": "display_data"
        },
        {
          "data": {
            "application/vnd.jupyter.widget-view+json": {
              "model_id": "a4b90dd8727d4105af1c0f48da259c60",
              "version_major": 2,
              "version_minor": 0
            },
            "text/plain": [
              "FloatProgress(value=0.0, max=30000.0)"
            ]
          },
          "metadata": {},
          "output_type": "display_data"
        },
        {
          "name": "stdout",
          "output_type": "stream",
          "text": [
            "train_loss [0.20]\n",
            "valid_loss [0.19]\n",
            "train_loss [0.20]\n",
            "valid_loss [0.19]\n",
            "[[8.46492592e-01 2.09265423e+00 9.32947369e-03 1.32448219e-02\n",
            "  1.46430441e-02 6.44262843e-03 6.83855293e+00 6.82838644e+00\n",
            "  6.87388365e+00 7.10086304e+00 1.04084425e+00]]\n",
            "epoch [3/20]\n"
          ]
        },
        {
          "data": {
            "application/vnd.jupyter.widget-view+json": {
              "model_id": "ecc57a5a049f4b768c846307cc54239d",
              "version_major": 2,
              "version_minor": 0
            },
            "text/plain": [
              "FloatProgress(value=0.0, max=100000.0)"
            ]
          },
          "metadata": {},
          "output_type": "display_data"
        },
        {
          "data": {
            "application/vnd.jupyter.widget-view+json": {
              "model_id": "baa3ad61e11144f0b2e41a62a0c0288c",
              "version_major": 2,
              "version_minor": 0
            },
            "text/plain": [
              "FloatProgress(value=0.0, max=30000.0)"
            ]
          },
          "metadata": {},
          "output_type": "display_data"
        },
        {
          "name": "stdout",
          "output_type": "stream",
          "text": [
            "train_loss [0.18]\n",
            "valid_loss [0.18]\n",
            "train_loss [0.18]\n",
            "valid_loss [0.18]\n",
            "[[8.15501108e-01 2.07861544e+00 9.05401325e-03 1.27463495e-02\n",
            "  1.42856201e-02 6.22333253e-03 6.26129343e+00 6.25356295e+00\n",
            "  6.27796812e+00 6.67796922e+00 9.77938292e-01]]\n",
            "epoch [4/20]\n"
          ]
        },
        {
          "data": {
            "application/vnd.jupyter.widget-view+json": {
              "model_id": "22b32268cc4748e28e25b423dc29b015",
              "version_major": 2,
              "version_minor": 0
            },
            "text/plain": [
              "FloatProgress(value=0.0, max=100000.0)"
            ]
          },
          "metadata": {},
          "output_type": "display_data"
        },
        {
          "data": {
            "application/vnd.jupyter.widget-view+json": {
              "model_id": "7bba5e48b37d480e956535cf2e622636",
              "version_major": 2,
              "version_minor": 0
            },
            "text/plain": [
              "FloatProgress(value=0.0, max=30000.0)"
            ]
          },
          "metadata": {},
          "output_type": "display_data"
        },
        {
          "name": "stdout",
          "output_type": "stream",
          "text": [
            "train_loss [0.17]\n",
            "valid_loss [0.17]\n",
            "train_loss [0.17]\n",
            "valid_loss [0.17]\n",
            "[[7.96911345e-01 2.01137447e+00 8.87856740e-03 1.23122120e-02\n",
            "  1.39020829e-02 6.06260423e-03 5.88445150e+00 5.89117884e+00\n",
            "  5.90906194e+00 6.18952738e+00 9.37949371e-01]]\n",
            "epoch [5/20]\n"
          ]
        },
        {
          "data": {
            "application/vnd.jupyter.widget-view+json": {
              "model_id": "c348e694a01542cca54601ea591c78d4",
              "version_major": 2,
              "version_minor": 0
            },
            "text/plain": [
              "FloatProgress(value=0.0, max=100000.0)"
            ]
          },
          "metadata": {},
          "output_type": "display_data"
        },
        {
          "data": {
            "application/vnd.jupyter.widget-view+json": {
              "model_id": "5a6776bcb9a547eb826732609c9b3dc0",
              "version_major": 2,
              "version_minor": 0
            },
            "text/plain": [
              "FloatProgress(value=0.0, max=30000.0)"
            ]
          },
          "metadata": {},
          "output_type": "display_data"
        },
        {
          "name": "stdout",
          "output_type": "stream",
          "text": [
            "train_loss [0.17]\n",
            "valid_loss [0.17]\n",
            "train_loss [0.17]\n",
            "valid_loss [0.17]\n",
            "[[7.85146575e-01 1.95690857e+00 8.73446029e-03 1.18701737e-02\n",
            "  1.35411991e-02 5.87275515e-03 5.61196383e+00 5.70335336e+00\n",
            "  5.68970325e+00 5.95076246e+00 9.25019499e-01]]\n",
            "epoch [6/20]\n"
          ]
        },
        {
          "data": {
            "application/vnd.jupyter.widget-view+json": {
              "model_id": "aae34f1462ed478fa2f156453c8f170c",
              "version_major": 2,
              "version_minor": 0
            },
            "text/plain": [
              "FloatProgress(value=0.0, max=100000.0)"
            ]
          },
          "metadata": {},
          "output_type": "display_data"
        },
        {
          "ename": "KeyboardInterrupt",
          "evalue": "",
          "output_type": "error",
          "traceback": [
            "\u001b[1;31m---------------------------------------------------------------------------\u001b[0m",
            "\u001b[1;31mKeyboardInterrupt\u001b[0m                         Traceback (most recent call last)",
            "\u001b[1;32mf:\\SMoleculeQM9\\QM9.ipynb Cell 60'\u001b[0m in \u001b[0;36m<cell line: 1>\u001b[1;34m()\u001b[0m\n\u001b[0;32m     <a href='vscode-notebook-cell:/f%3A/SMoleculeQM9/QM9.ipynb#ch0000059?line=12'>13</a>\u001b[0m smile \u001b[39m=\u001b[39m X_train\u001b[39m.\u001b[39miloc[index][\u001b[39m'\u001b[39m\u001b[39msmiles\u001b[39m\u001b[39m'\u001b[39m]\n\u001b[0;32m     <a href='vscode-notebook-cell:/f%3A/SMoleculeQM9/QM9.ipynb#ch0000059?line=13'>14</a>\u001b[0m \u001b[39m#print('beep1')\u001b[39;00m\n\u001b[1;32m---> <a href='vscode-notebook-cell:/f%3A/SMoleculeQM9/QM9.ipynb#ch0000059?line=14'>15</a>\u001b[0m y_hat \u001b[39m=\u001b[39m model(smile)\n\u001b[0;32m     <a href='vscode-notebook-cell:/f%3A/SMoleculeQM9/QM9.ipynb#ch0000059?line=15'>16</a>\u001b[0m \u001b[39m#print('beep1')\u001b[39;00m\n\u001b[0;32m     <a href='vscode-notebook-cell:/f%3A/SMoleculeQM9/QM9.ipynb#ch0000059?line=16'>17</a>\u001b[0m y_tru \u001b[39m=\u001b[39m torch\u001b[39m.\u001b[39mTensor(y_train\u001b[39m.\u001b[39miloc[index]\u001b[39m.\u001b[39mvalues\u001b[39m.\u001b[39mreshape(\u001b[39m1\u001b[39m, V))\n",
            "File \u001b[1;32mc:\\Users\\mrunm\\mambaforge\\envs\\qm9\\lib\\site-packages\\torch\\nn\\modules\\module.py:1110\u001b[0m, in \u001b[0;36mModule._call_impl\u001b[1;34m(self, *input, **kwargs)\u001b[0m\n\u001b[0;32m   1106\u001b[0m \u001b[39m# If we don't have any hooks, we want to skip the rest of the logic in\u001b[39;00m\n\u001b[0;32m   1107\u001b[0m \u001b[39m# this function, and just call forward.\u001b[39;00m\n\u001b[0;32m   1108\u001b[0m \u001b[39mif\u001b[39;00m \u001b[39mnot\u001b[39;00m (\u001b[39mself\u001b[39m\u001b[39m.\u001b[39m_backward_hooks \u001b[39mor\u001b[39;00m \u001b[39mself\u001b[39m\u001b[39m.\u001b[39m_forward_hooks \u001b[39mor\u001b[39;00m \u001b[39mself\u001b[39m\u001b[39m.\u001b[39m_forward_pre_hooks \u001b[39mor\u001b[39;00m _global_backward_hooks\n\u001b[0;32m   1109\u001b[0m         \u001b[39mor\u001b[39;00m _global_forward_hooks \u001b[39mor\u001b[39;00m _global_forward_pre_hooks):\n\u001b[1;32m-> 1110\u001b[0m     \u001b[39mreturn\u001b[39;00m forward_call(\u001b[39m*\u001b[39m\u001b[39minput\u001b[39m, \u001b[39m*\u001b[39m\u001b[39m*\u001b[39mkwargs)\n\u001b[0;32m   1111\u001b[0m \u001b[39m# Do not call functions when jit is used\u001b[39;00m\n\u001b[0;32m   1112\u001b[0m full_backward_hooks, non_full_backward_hooks \u001b[39m=\u001b[39m [], []\n",
            "\u001b[1;32mf:\\SMoleculeQM9\\QM9.ipynb Cell 55'\u001b[0m in \u001b[0;36mMPNN.forward\u001b[1;34m(self, smile)\u001b[0m\n\u001b[0;32m     <a href='vscode-notebook-cell:/f%3A/SMoleculeQM9/QM9.ipynb#ch0000054?line=17'>18</a>\u001b[0m \u001b[39mdef\u001b[39;00m \u001b[39mforward\u001b[39m(\u001b[39mself\u001b[39m, smile):\n\u001b[1;32m---> <a href='vscode-notebook-cell:/f%3A/SMoleculeQM9/QM9.ipynb#ch0000054?line=18'>19</a>\u001b[0m     h, h0 \u001b[39m=\u001b[39m \u001b[39mself\u001b[39;49m\u001b[39m.\u001b[39;49mM(smile)\n\u001b[0;32m     <a href='vscode-notebook-cell:/f%3A/SMoleculeQM9/QM9.ipynb#ch0000054?line=19'>20</a>\u001b[0m     embed \u001b[39m=\u001b[39m \u001b[39mself\u001b[39m\u001b[39m.\u001b[39mR(h, h0)\n\u001b[0;32m     <a href='vscode-notebook-cell:/f%3A/SMoleculeQM9/QM9.ipynb#ch0000054?line=20'>21</a>\u001b[0m     \u001b[39mreturn\u001b[39;00m \u001b[39mself\u001b[39m\u001b[39m.\u001b[39mp(embed)\n",
            "File \u001b[1;32mc:\\Users\\mrunm\\mambaforge\\envs\\qm9\\lib\\site-packages\\torch\\nn\\modules\\module.py:1110\u001b[0m, in \u001b[0;36mModule._call_impl\u001b[1;34m(self, *input, **kwargs)\u001b[0m\n\u001b[0;32m   1106\u001b[0m \u001b[39m# If we don't have any hooks, we want to skip the rest of the logic in\u001b[39;00m\n\u001b[0;32m   1107\u001b[0m \u001b[39m# this function, and just call forward.\u001b[39;00m\n\u001b[0;32m   1108\u001b[0m \u001b[39mif\u001b[39;00m \u001b[39mnot\u001b[39;00m (\u001b[39mself\u001b[39m\u001b[39m.\u001b[39m_backward_hooks \u001b[39mor\u001b[39;00m \u001b[39mself\u001b[39m\u001b[39m.\u001b[39m_forward_hooks \u001b[39mor\u001b[39;00m \u001b[39mself\u001b[39m\u001b[39m.\u001b[39m_forward_pre_hooks \u001b[39mor\u001b[39;00m _global_backward_hooks\n\u001b[0;32m   1109\u001b[0m         \u001b[39mor\u001b[39;00m _global_forward_hooks \u001b[39mor\u001b[39;00m _global_forward_pre_hooks):\n\u001b[1;32m-> 1110\u001b[0m     \u001b[39mreturn\u001b[39;00m forward_call(\u001b[39m*\u001b[39m\u001b[39minput\u001b[39m, \u001b[39m*\u001b[39m\u001b[39m*\u001b[39mkwargs)\n\u001b[0;32m   1111\u001b[0m \u001b[39m# Do not call functions when jit is used\u001b[39;00m\n\u001b[0;32m   1112\u001b[0m full_backward_hooks, non_full_backward_hooks \u001b[39m=\u001b[39m [], []\n",
            "\u001b[1;32mf:\\SMoleculeQM9\\QM9.ipynb Cell 53'\u001b[0m in \u001b[0;36mMessagePhase.forward\u001b[1;34m(self, smile)\u001b[0m\n\u001b[0;32m     <a href='vscode-notebook-cell:/f%3A/SMoleculeQM9/QM9.ipynb#ch0000052?line=10'>11</a>\u001b[0m g0, h0 \u001b[39m=\u001b[39m construct_multigraph(smile)\n\u001b[0;32m     <a href='vscode-notebook-cell:/f%3A/SMoleculeQM9/QM9.ipynb#ch0000052?line=12'>13</a>\u001b[0m \u001b[39mfor\u001b[39;00m k \u001b[39min\u001b[39;00m \u001b[39mrange\u001b[39m(T):\n\u001b[0;32m     <a href='vscode-notebook-cell:/f%3A/SMoleculeQM9/QM9.ipynb#ch0000052?line=13'>14</a>\u001b[0m     h \u001b[39m=\u001b[39m OrderedDict(\n\u001b[1;32m---> <a href='vscode-notebook-cell:/f%3A/SMoleculeQM9/QM9.ipynb#ch0000052?line=14'>15</a>\u001b[0m         {\n\u001b[0;32m     <a href='vscode-notebook-cell:/f%3A/SMoleculeQM9/QM9.ipynb#ch0000052?line=15'>16</a>\u001b[0m             v:\n\u001b[0;32m     <a href='vscode-notebook-cell:/f%3A/SMoleculeQM9/QM9.ipynb#ch0000052?line=16'>17</a>\u001b[0m             \u001b[39mself\u001b[39m\u001b[39m.\u001b[39mU[k](\n\u001b[0;32m     <a href='vscode-notebook-cell:/f%3A/SMoleculeQM9/QM9.ipynb#ch0000052?line=17'>18</a>\u001b[0m                 \u001b[39msum\u001b[39m(torch\u001b[39m.\u001b[39mmatmul(h[w], \u001b[39mself\u001b[39m\u001b[39m.\u001b[39mA(e_vw)) \u001b[39mfor\u001b[39;00m e_vw, w \u001b[39min\u001b[39;00m en), \n\u001b[0;32m     <a href='vscode-notebook-cell:/f%3A/SMoleculeQM9/QM9.ipynb#ch0000052?line=18'>19</a>\u001b[0m                 h[v]\n\u001b[0;32m     <a href='vscode-notebook-cell:/f%3A/SMoleculeQM9/QM9.ipynb#ch0000052?line=19'>20</a>\u001b[0m             )\n\u001b[0;32m     <a href='vscode-notebook-cell:/f%3A/SMoleculeQM9/QM9.ipynb#ch0000052?line=20'>21</a>\u001b[0m             \u001b[39mfor\u001b[39;00m v, en \u001b[39min\u001b[39;00m g\u001b[39m.\u001b[39mitems()\n\u001b[0;32m     <a href='vscode-notebook-cell:/f%3A/SMoleculeQM9/QM9.ipynb#ch0000052?line=21'>22</a>\u001b[0m         }\n\u001b[0;32m     <a href='vscode-notebook-cell:/f%3A/SMoleculeQM9/QM9.ipynb#ch0000052?line=22'>23</a>\u001b[0m     )\n\u001b[0;32m     <a href='vscode-notebook-cell:/f%3A/SMoleculeQM9/QM9.ipynb#ch0000052?line=24'>25</a>\u001b[0m \u001b[39mreturn\u001b[39;00m h, h0\n",
            "\u001b[1;32mf:\\SMoleculeQM9\\QM9.ipynb Cell 53'\u001b[0m in \u001b[0;36m<dictcomp>\u001b[1;34m(.0)\u001b[0m\n\u001b[0;32m     <a href='vscode-notebook-cell:/f%3A/SMoleculeQM9/QM9.ipynb#ch0000052?line=10'>11</a>\u001b[0m g0, h0 \u001b[39m=\u001b[39m construct_multigraph(smile)\n\u001b[0;32m     <a href='vscode-notebook-cell:/f%3A/SMoleculeQM9/QM9.ipynb#ch0000052?line=12'>13</a>\u001b[0m \u001b[39mfor\u001b[39;00m k \u001b[39min\u001b[39;00m \u001b[39mrange\u001b[39m(T):\n\u001b[0;32m     <a href='vscode-notebook-cell:/f%3A/SMoleculeQM9/QM9.ipynb#ch0000052?line=13'>14</a>\u001b[0m     h \u001b[39m=\u001b[39m OrderedDict(\n\u001b[0;32m     <a href='vscode-notebook-cell:/f%3A/SMoleculeQM9/QM9.ipynb#ch0000052?line=14'>15</a>\u001b[0m         {\n\u001b[0;32m     <a href='vscode-notebook-cell:/f%3A/SMoleculeQM9/QM9.ipynb#ch0000052?line=15'>16</a>\u001b[0m             v:\n\u001b[1;32m---> <a href='vscode-notebook-cell:/f%3A/SMoleculeQM9/QM9.ipynb#ch0000052?line=16'>17</a>\u001b[0m             \u001b[39mself\u001b[39;49m\u001b[39m.\u001b[39;49mU[k](\n\u001b[0;32m     <a href='vscode-notebook-cell:/f%3A/SMoleculeQM9/QM9.ipynb#ch0000052?line=17'>18</a>\u001b[0m                 \u001b[39msum\u001b[39;49m(torch\u001b[39m.\u001b[39;49mmatmul(h[w], \u001b[39mself\u001b[39;49m\u001b[39m.\u001b[39;49mA(e_vw)) \u001b[39mfor\u001b[39;49;00m e_vw, w \u001b[39min\u001b[39;49;00m en), \n\u001b[0;32m     <a href='vscode-notebook-cell:/f%3A/SMoleculeQM9/QM9.ipynb#ch0000052?line=18'>19</a>\u001b[0m                 h[v]\n\u001b[0;32m     <a href='vscode-notebook-cell:/f%3A/SMoleculeQM9/QM9.ipynb#ch0000052?line=19'>20</a>\u001b[0m             )\n\u001b[0;32m     <a href='vscode-notebook-cell:/f%3A/SMoleculeQM9/QM9.ipynb#ch0000052?line=20'>21</a>\u001b[0m             \u001b[39mfor\u001b[39;00m v, en \u001b[39min\u001b[39;00m g\u001b[39m.\u001b[39mitems()\n\u001b[0;32m     <a href='vscode-notebook-cell:/f%3A/SMoleculeQM9/QM9.ipynb#ch0000052?line=21'>22</a>\u001b[0m         }\n\u001b[0;32m     <a href='vscode-notebook-cell:/f%3A/SMoleculeQM9/QM9.ipynb#ch0000052?line=22'>23</a>\u001b[0m     )\n\u001b[0;32m     <a href='vscode-notebook-cell:/f%3A/SMoleculeQM9/QM9.ipynb#ch0000052?line=24'>25</a>\u001b[0m \u001b[39mreturn\u001b[39;00m h, h0\n",
            "File \u001b[1;32mc:\\Users\\mrunm\\mambaforge\\envs\\qm9\\lib\\site-packages\\torch\\nn\\modules\\module.py:1110\u001b[0m, in \u001b[0;36mModule._call_impl\u001b[1;34m(self, *input, **kwargs)\u001b[0m\n\u001b[0;32m   1106\u001b[0m \u001b[39m# If we don't have any hooks, we want to skip the rest of the logic in\u001b[39;00m\n\u001b[0;32m   1107\u001b[0m \u001b[39m# this function, and just call forward.\u001b[39;00m\n\u001b[0;32m   1108\u001b[0m \u001b[39mif\u001b[39;00m \u001b[39mnot\u001b[39;00m (\u001b[39mself\u001b[39m\u001b[39m.\u001b[39m_backward_hooks \u001b[39mor\u001b[39;00m \u001b[39mself\u001b[39m\u001b[39m.\u001b[39m_forward_hooks \u001b[39mor\u001b[39;00m \u001b[39mself\u001b[39m\u001b[39m.\u001b[39m_forward_pre_hooks \u001b[39mor\u001b[39;00m _global_backward_hooks\n\u001b[0;32m   1109\u001b[0m         \u001b[39mor\u001b[39;00m _global_forward_hooks \u001b[39mor\u001b[39;00m _global_forward_pre_hooks):\n\u001b[1;32m-> 1110\u001b[0m     \u001b[39mreturn\u001b[39;00m forward_call(\u001b[39m*\u001b[39m\u001b[39minput\u001b[39m, \u001b[39m*\u001b[39m\u001b[39m*\u001b[39mkwargs)\n\u001b[0;32m   1111\u001b[0m \u001b[39m# Do not call functions when jit is used\u001b[39;00m\n\u001b[0;32m   1112\u001b[0m full_backward_hooks, non_full_backward_hooks \u001b[39m=\u001b[39m [], []\n",
            "File \u001b[1;32mc:\\Users\\mrunm\\mambaforge\\envs\\qm9\\lib\\site-packages\\torch\\nn\\modules\\rnn.py:1267\u001b[0m, in \u001b[0;36mGRUCell.forward\u001b[1;34m(self, input, hx)\u001b[0m\n\u001b[0;32m   1264\u001b[0m \u001b[39melse\u001b[39;00m:\n\u001b[0;32m   1265\u001b[0m     hx \u001b[39m=\u001b[39m hx\u001b[39m.\u001b[39munsqueeze(\u001b[39m0\u001b[39m) \u001b[39mif\u001b[39;00m \u001b[39mnot\u001b[39;00m is_batched \u001b[39melse\u001b[39;00m hx\n\u001b[1;32m-> 1267\u001b[0m ret \u001b[39m=\u001b[39m _VF\u001b[39m.\u001b[39;49mgru_cell(\n\u001b[0;32m   1268\u001b[0m     \u001b[39minput\u001b[39;49m, hx,\n\u001b[0;32m   1269\u001b[0m     \u001b[39mself\u001b[39;49m\u001b[39m.\u001b[39;49mweight_ih, \u001b[39mself\u001b[39;49m\u001b[39m.\u001b[39;49mweight_hh,\n\u001b[0;32m   1270\u001b[0m     \u001b[39mself\u001b[39;49m\u001b[39m.\u001b[39;49mbias_ih, \u001b[39mself\u001b[39;49m\u001b[39m.\u001b[39;49mbias_hh,\n\u001b[0;32m   1271\u001b[0m )\n\u001b[0;32m   1273\u001b[0m \u001b[39mif\u001b[39;00m \u001b[39mnot\u001b[39;00m is_batched:\n\u001b[0;32m   1274\u001b[0m     ret \u001b[39m=\u001b[39m ret\u001b[39m.\u001b[39msqueeze(\u001b[39m0\u001b[39m)\n",
            "\u001b[1;31mKeyboardInterrupt\u001b[0m: "
          ]
        }
      ],
      "source": [
        "for epoch in range(NUM_EPOCHS):\n",
        "    print(\"epoch [%d/%d]\"%(epoch+1, NUM_EPOCHS))\n",
        "    train_loss = 0\n",
        "    train_bar = FloatProgress(min=0, max=TRAIN_SIZE)\n",
        "    display(train_bar)\n",
        "    for batch in range(0, TRAIN_SIZE, BATCH_SIZE):\n",
        "        batch_loss = 0\n",
        "        optimizer.zero_grad()\n",
        "        for sample in range(BATCH_SIZE):\n",
        "            #print(index)\n",
        "            index = sample + batch\n",
        "            #print(index)\n",
        "            smile = X_train.iloc[index]['smiles']\n",
        "            #print('beep1')\n",
        "            y_hat = model(smile)\n",
        "            #print('beep1')\n",
        "            y_tru = torch.Tensor(y_train.iloc[index].values.reshape(1, V))\n",
        "            #print(\"y_train[index]: \",y_train.iloc[index])\n",
        "            y_hat1=y_hat;\n",
        "            #print(\"y_hat: \",y_hat1.reshape(V, 1))\n",
        "#             df.loc[len(df)] = y_hat\n",
        "            if(epoch==2):\n",
        "                y_hat1=y_hat.detach().numpy()\n",
        "                df1=pd.DataFrame(y_hat1,columns=['col1','col2','col3','col4','col5','col6','col7','col8','col9','col10','col11'])\n",
        "                #dfn=dfn.append(df1)\n",
        "                dfn = pd.concat([dfn, df1])\n",
        "            batch_loss += batch_mse_loss(y_hat, y_tru)\n",
        "            train_bar.value += 1\n",
        "        train_loss += (batch_loss * scale_batch_to_train).detach()\n",
        "        batch_loss.backward()\n",
        "        optimizer.step()\n",
        "    valid_loss = 0\n",
        "    accu_check = 0\n",
        "    valid_bar = FloatProgress(min=0, max=VALID_SIZE)\n",
        "    display(valid_bar)\n",
        "    for sample in range(VALID_SIZE):\n",
        "        index = sample\n",
        "        smile = X_val.iloc[index]['smiles']\n",
        "        y_hat = model(smile)\n",
        "        y_tru = torch.Tensor(y_val.iloc[index].values.reshape(1, V))\n",
        "        valid_loss += valid_mse_loss(y_hat, y_tru)\n",
        "        accu_check += np.abs(scaler.inverse_transform(y_hat.detach()) - \\\n",
        "                             scaler.inverse_transform(y_tru.detach())) / VALID_SIZE\n",
        "        valid_bar.value += 1\n",
        "    print('train_loss [%4.2f]'%(train_loss.item()))\n",
        "    print('valid_loss [%4.2f]'%(valid_loss.item()))\n",
        "    print('train_loss [%4.2f]' % (train_loss.item()))\n",
        "    print('valid_loss [%4.2f]' % (valid_loss.item()))\n",
        "    y_loss['train'].append(train_loss.item())\n",
        "    y_loss['val'].append(valid_loss.item())\n",
        "    for i in range(len(tasks)):\n",
        "        y_acc[tasks[i]].append(accu_check[0][i])\n",
        "    draw_curve(epoch)\n",
        "    wandb.log({\"loss\": train_loss, \"validation loss\": valid_loss, tasks[0]: accu_check[0][0], tasks[1]: accu_check[0][1],\n",
        "               tasks[2]: accu_check[0][2], tasks[3]: accu_check[0][3], tasks[4]: accu_check[0][4],\n",
        "               tasks[5]: accu_check[0][5], tasks[6]: accu_check[0][6], tasks[7]: accu_check[0][7],\n",
        "               tasks[8]: accu_check[0][8], tasks[9]: accu_check[0][9], tasks[10]: accu_check[0][10]})\n",
        "    wandb.watch(model)\n",
        "    print(accu_check)    "
      ]
    },
    {
      "cell_type": "code",
      "execution_count": null,
      "metadata": {
        "id": "30oNq4oRGaEA"
      },
      "outputs": [],
      "source": [
        "# DONT GO AHEAD#\n",
        "dfn"
      ]
    },
    {
      "cell_type": "code",
      "execution_count": null,
      "metadata": {
        "id": "AXO07ozgGaEA"
      },
      "outputs": [],
      "source": [
        "for batch in range(0, TRAIN_SIZE, BATCH_SIZE):\n",
        "        batch_loss = 0\n",
        "        optimizer.zero_grad()\n",
        "        for sample in range(BATCH_SIZE):\n",
        "            #print(index)\n",
        "            index = sample + batch\n",
        "            print(index)\n",
        "            smile = X_train.iloc[index]['smiles']\n",
        "            print(smile)"
      ]
    },
    {
      "cell_type": "markdown",
      "metadata": {
        "id": "m9IshhlqmICS"
      },
      "source": []
    },
    {
      "cell_type": "code",
      "execution_count": null,
      "metadata": {
        "id": "lAvSgjb224XE"
      },
      "outputs": [],
      "source": [
        "# y_train"
      ]
    },
    {
      "cell_type": "code",
      "execution_count": null,
      "metadata": {
        "id": "45ejnfiVAkfJ"
      },
      "outputs": [],
      "source": [
        "# smile = \"C1(C)C(Br)C1\""
      ]
    },
    {
      "cell_type": "code",
      "execution_count": null,
      "metadata": {
        "id": "_e0psEGn6FMC"
      },
      "outputs": [],
      "source": [
        "# g = OrderedDict({})\n",
        "# h = OrderedDict({})\n",
        "# #h[-1] = 0\n",
        "# molecule = Chem.MolFromSmiles(smile)\n",
        "# #mol_matrix = [['0','1','0','0','0'],['1','0','2','0','1'],['0','2','0','1','1'],['0','0','1','0','0'],['0','1','1','0','0']]\n",
        "# for i in range(molecule.GetNumAtoms()):\n",
        "#     atom_i = molecule.GetAtomWithIdx(i)\n",
        "#     atom_i_featurized = dc.feat.graph_features.atom_features(atom_i)\n",
        "#     atom_i_tensorized = torch.FloatTensor(atom_i_featurized).view(1, D)\n",
        "#     h[i] = atom_i_tensorized\n",
        "#     #h[-1] += h[i]\n",
        "#     master_edge = master_edge_learner(h[i])\n",
        "#     g.setdefault(i, [])\n",
        "#     #.append((master_edge, -1))\n",
        "#     #g.setdefault(-1, [])\n",
        "#     #.append((master_edge, i))\n",
        "#     for j in range(molecule.GetNumAtoms()):\n",
        "#         bond_ij = molecule.GetBondBetweenAtoms(i, j)\n",
        "#         if bond_ij: # bond_ij is None when there is no bond.\n",
        "#             #atom_j = molecule.GetAtomWithIdx(j)\n",
        "#             #atom_j_featurized = dc.feat.graph_features.atom_features(atom_j)\n",
        "#             #atom_j_tensorized = torch.FloatTensor(atom_j_featurized).view(1, 75)\n",
        "#             bond_ij_featurized = dc.feat.graph_features.bond_features(bond_ij).astype(int)\n",
        "#             bond_ij_tensorized = torch.FloatTensor(bond_ij_featurized).view(1, E)\n",
        "#             g.setdefault(i, []).append((bond_ij_tensorized, j))"
      ]
    },
    {
      "cell_type": "code",
      "execution_count": null,
      "metadata": {
        "id": "mkswXbZZ6P5C"
      },
      "outputs": [],
      "source": [
        "# print(g)\n",
        "# print(h)"
      ]
    },
    {
      "cell_type": "code",
      "execution_count": null,
      "metadata": {
        "id": "71IcT8tsg30K"
      },
      "outputs": [],
      "source": [
        "# cycles = [[],[],[]]"
      ]
    },
    {
      "cell_type": "code",
      "execution_count": null,
      "metadata": {
        "id": "fs9hto5dgJnl"
      },
      "outputs": [],
      "source": [
        "# def cycles_list(edges_1,mark,cycle_number):\n",
        "#   for i in range(edges):\n",
        "#     if(mark[i]!=0):\n",
        "#       #print(mark[i],i)\n",
        "#       cycles[mark[i]].append(i)\n",
        "#   #for i in range(cycle_number+1):\n",
        "#     #print(cycles[i])"
      ]
    },
    {
      "cell_type": "code",
      "execution_count": null,
      "metadata": {
        "id": "oHLcx_R_Hw3-"
      },
      "outputs": [],
      "source": [
        "# dfs_cycle(0, -1 , color, mark, par, cyclenumber,g)"
      ]
    },
    {
      "cell_type": "code",
      "execution_count": null,
      "metadata": {
        "id": "9XM2onEjoIQN"
      },
      "outputs": [],
      "source": [
        "# print(len(h))"
      ]
    },
    {
      "cell_type": "code",
      "execution_count": null,
      "metadata": {
        "id": "4OHA1l_ebnyA"
      },
      "outputs": [],
      "source": [
        "# cycles_list(edges,mark,max(mark))"
      ]
    },
    {
      "cell_type": "code",
      "execution_count": null,
      "metadata": {
        "id": "5fEocdBHHozp"
      },
      "outputs": [],
      "source": [
        "# num_of_atoms = 5\n",
        "# for i in range(len(cycles)):\n",
        "#   if(len(cycles[i])>=3):\n",
        "#     h[len(h)]=0\n",
        "#     for j in range(len(cycles[i])):\n",
        "#       print(len(h)-1)\n",
        "#       h[len(h)-1]+=h[cycles[i][j]]\n",
        "#       master_edge = master_edge_learner(h[cycles[i][j]])\n",
        "#       g[cycles[i][j]].append((master_edge, -1))\n",
        "#       g.setdefault(len(h)-1, []).append((master_edge, cycles[i][j]))\n",
        "# print(len(h))\n",
        "# #for x in range (num_of_atoms,len(h)):\n",
        "#   #h[-1]+=h[x]\n",
        "#   #master_edge = master_edge_learner(h[x])\n",
        "#   #g[x].append((master_edge, -1))\n",
        "#   #g.setdefault(-1, []).append((master_edge, h[x])"
      ]
    },
    {
      "cell_type": "code",
      "execution_count": null,
      "metadata": {
        "id": "b_5_eiC2lpKG"
      },
      "outputs": [],
      "source": [
        "# print(len(g))\n",
        "# print(len(h))"
      ]
    },
    {
      "cell_type": "code",
      "execution_count": null,
      "metadata": {
        "id": "U5pfsLd8lBtS"
      },
      "outputs": [],
      "source": [
        "# h[len(h)]=0\n",
        "# for x in range (num_of_atoms,len(h)-1):\n",
        "#   print(len(h))\n",
        "#   h[len(h)-1]+=h[x]\n",
        "#   master_edge = master_edge_learner(h[x])\n",
        "#   g[x].append((master_edge, -1))\n",
        "#   g.setdefault(-1, []).append((master_edge, h[x]))"
      ]
    },
    {
      "cell_type": "code",
      "execution_count": null,
      "metadata": {
        "id": "fBfpTYq3j4PJ"
      },
      "outputs": [],
      "source": [
        "# print(g)"
      ]
    }
  ],
  "metadata": {
    "accelerator": "GPU",
    "colab": {
      "collapsed_sections": [],
      "name": "QM9.ipynb",
      "provenance": []
    },
    "interpreter": {
      "hash": "8cd179ae70cbbef72e34332163822689fdd9fb6b775ebd7561eaaa7fa0cb6742"
    },
    "kernelspec": {
      "display_name": "Python 3.10.4 ('qm9')",
      "language": "python",
      "name": "python3"
    },
    "language_info": {
      "codemirror_mode": {
        "name": "ipython",
        "version": 3
      },
      "file_extension": ".py",
      "mimetype": "text/x-python",
      "name": "python",
      "nbconvert_exporter": "python",
      "pygments_lexer": "ipython3",
      "version": "3.9.13"
    },
    "widgets": {
      "application/vnd.jupyter.widget-state+json": {
        "018af4f2a0c14a2988f4eeff9e5f10f2": {
          "model_module": "@jupyter-widgets/controls",
          "model_module_version": "1.5.0",
          "model_name": "ProgressStyleModel",
          "state": {
            "_model_module": "@jupyter-widgets/controls",
            "_model_module_version": "1.5.0",
            "_model_name": "ProgressStyleModel",
            "_view_count": null,
            "_view_module": "@jupyter-widgets/base",
            "_view_module_version": "1.2.0",
            "_view_name": "StyleView",
            "bar_color": null,
            "description_width": ""
          }
        },
        "0ed8b50325434890ae4af227b8e47f31": {
          "model_module": "@jupyter-widgets/controls",
          "model_module_version": "1.5.0",
          "model_name": "ProgressStyleModel",
          "state": {
            "_model_module": "@jupyter-widgets/controls",
            "_model_module_version": "1.5.0",
            "_model_name": "ProgressStyleModel",
            "_view_count": null,
            "_view_module": "@jupyter-widgets/base",
            "_view_module_version": "1.2.0",
            "_view_name": "StyleView",
            "bar_color": null,
            "description_width": ""
          }
        },
        "157dc25ac36f4265a7bae466dc055769": {
          "model_module": "@jupyter-widgets/base",
          "model_module_version": "1.2.0",
          "model_name": "LayoutModel",
          "state": {
            "_model_module": "@jupyter-widgets/base",
            "_model_module_version": "1.2.0",
            "_model_name": "LayoutModel",
            "_view_count": null,
            "_view_module": "@jupyter-widgets/base",
            "_view_module_version": "1.2.0",
            "_view_name": "LayoutView",
            "align_content": null,
            "align_items": null,
            "align_self": null,
            "border": null,
            "bottom": null,
            "display": null,
            "flex": null,
            "flex_flow": null,
            "grid_area": null,
            "grid_auto_columns": null,
            "grid_auto_flow": null,
            "grid_auto_rows": null,
            "grid_column": null,
            "grid_gap": null,
            "grid_row": null,
            "grid_template_areas": null,
            "grid_template_columns": null,
            "grid_template_rows": null,
            "height": null,
            "justify_content": null,
            "justify_items": null,
            "left": null,
            "margin": null,
            "max_height": null,
            "max_width": null,
            "min_height": null,
            "min_width": null,
            "object_fit": null,
            "object_position": null,
            "order": null,
            "overflow": null,
            "overflow_x": null,
            "overflow_y": null,
            "padding": null,
            "right": null,
            "top": null,
            "visibility": null,
            "width": null
          }
        },
        "20131bfb19184dd7a5c69a77bb5389de": {
          "model_module": "@jupyter-widgets/controls",
          "model_module_version": "1.5.0",
          "model_name": "FloatProgressModel",
          "state": {
            "_dom_classes": [],
            "_model_module": "@jupyter-widgets/controls",
            "_model_module_version": "1.5.0",
            "_model_name": "FloatProgressModel",
            "_view_count": null,
            "_view_module": "@jupyter-widgets/controls",
            "_view_module_version": "1.5.0",
            "_view_name": "ProgressView",
            "bar_style": "",
            "description": "",
            "description_tooltip": null,
            "layout": "IPY_MODEL_7bdac1f7fcf34a5cbd477521bef7b993",
            "max": 30000,
            "min": 0,
            "orientation": "horizontal",
            "style": "IPY_MODEL_a217a8278c4940c28678faf1c6dbec71",
            "value": 30000
          }
        },
        "2c2e70c192b84d59a054c6309c4d6f38": {
          "model_module": "@jupyter-widgets/base",
          "model_module_version": "1.2.0",
          "model_name": "LayoutModel",
          "state": {
            "_model_module": "@jupyter-widgets/base",
            "_model_module_version": "1.2.0",
            "_model_name": "LayoutModel",
            "_view_count": null,
            "_view_module": "@jupyter-widgets/base",
            "_view_module_version": "1.2.0",
            "_view_name": "LayoutView",
            "align_content": null,
            "align_items": null,
            "align_self": null,
            "border": null,
            "bottom": null,
            "display": null,
            "flex": null,
            "flex_flow": null,
            "grid_area": null,
            "grid_auto_columns": null,
            "grid_auto_flow": null,
            "grid_auto_rows": null,
            "grid_column": null,
            "grid_gap": null,
            "grid_row": null,
            "grid_template_areas": null,
            "grid_template_columns": null,
            "grid_template_rows": null,
            "height": null,
            "justify_content": null,
            "justify_items": null,
            "left": null,
            "margin": null,
            "max_height": null,
            "max_width": null,
            "min_height": null,
            "min_width": null,
            "object_fit": null,
            "object_position": null,
            "order": null,
            "overflow": null,
            "overflow_x": null,
            "overflow_y": null,
            "padding": null,
            "right": null,
            "top": null,
            "visibility": null,
            "width": null
          }
        },
        "4167d5c310ec478a8a491d2a894b4ac1": {
          "model_module": "@jupyter-widgets/controls",
          "model_module_version": "1.5.0",
          "model_name": "ProgressStyleModel",
          "state": {
            "_model_module": "@jupyter-widgets/controls",
            "_model_module_version": "1.5.0",
            "_model_name": "ProgressStyleModel",
            "_view_count": null,
            "_view_module": "@jupyter-widgets/base",
            "_view_module_version": "1.2.0",
            "_view_name": "StyleView",
            "bar_color": null,
            "description_width": ""
          }
        },
        "41e44ae5e6914232985d8052a1f86492": {
          "model_module": "@jupyter-widgets/controls",
          "model_module_version": "1.5.0",
          "model_name": "ProgressStyleModel",
          "state": {
            "_model_module": "@jupyter-widgets/controls",
            "_model_module_version": "1.5.0",
            "_model_name": "ProgressStyleModel",
            "_view_count": null,
            "_view_module": "@jupyter-widgets/base",
            "_view_module_version": "1.2.0",
            "_view_name": "StyleView",
            "bar_color": null,
            "description_width": ""
          }
        },
        "573ea51c5e834917bb5060ff875b0d19": {
          "model_module": "@jupyter-widgets/controls",
          "model_module_version": "1.5.0",
          "model_name": "FloatProgressModel",
          "state": {
            "_dom_classes": [],
            "_model_module": "@jupyter-widgets/controls",
            "_model_module_version": "1.5.0",
            "_model_name": "FloatProgressModel",
            "_view_count": null,
            "_view_module": "@jupyter-widgets/controls",
            "_view_module_version": "1.5.0",
            "_view_name": "ProgressView",
            "bar_style": "",
            "description": "",
            "description_tooltip": null,
            "layout": "IPY_MODEL_b5971d65e10c40919ddcacef27f91805",
            "max": 100000,
            "min": 0,
            "orientation": "horizontal",
            "style": "IPY_MODEL_85e561d9d7b542de97eecd21d6cf6e86",
            "value": 100000
          }
        },
        "72601868165443d99c0119e94fd12a7a": {
          "model_module": "@jupyter-widgets/controls",
          "model_module_version": "1.5.0",
          "model_name": "FloatProgressModel",
          "state": {
            "_dom_classes": [],
            "_model_module": "@jupyter-widgets/controls",
            "_model_module_version": "1.5.0",
            "_model_name": "FloatProgressModel",
            "_view_count": null,
            "_view_module": "@jupyter-widgets/controls",
            "_view_module_version": "1.5.0",
            "_view_name": "ProgressView",
            "bar_style": "",
            "description": "",
            "description_tooltip": null,
            "layout": "IPY_MODEL_157dc25ac36f4265a7bae466dc055769",
            "max": 30000,
            "min": 0,
            "orientation": "horizontal",
            "style": "IPY_MODEL_a7eb93cd79c34d3c8775be88584d70a1",
            "value": 30000
          }
        },
        "7bdac1f7fcf34a5cbd477521bef7b993": {
          "model_module": "@jupyter-widgets/base",
          "model_module_version": "1.2.0",
          "model_name": "LayoutModel",
          "state": {
            "_model_module": "@jupyter-widgets/base",
            "_model_module_version": "1.2.0",
            "_model_name": "LayoutModel",
            "_view_count": null,
            "_view_module": "@jupyter-widgets/base",
            "_view_module_version": "1.2.0",
            "_view_name": "LayoutView",
            "align_content": null,
            "align_items": null,
            "align_self": null,
            "border": null,
            "bottom": null,
            "display": null,
            "flex": null,
            "flex_flow": null,
            "grid_area": null,
            "grid_auto_columns": null,
            "grid_auto_flow": null,
            "grid_auto_rows": null,
            "grid_column": null,
            "grid_gap": null,
            "grid_row": null,
            "grid_template_areas": null,
            "grid_template_columns": null,
            "grid_template_rows": null,
            "height": null,
            "justify_content": null,
            "justify_items": null,
            "left": null,
            "margin": null,
            "max_height": null,
            "max_width": null,
            "min_height": null,
            "min_width": null,
            "object_fit": null,
            "object_position": null,
            "order": null,
            "overflow": null,
            "overflow_x": null,
            "overflow_y": null,
            "padding": null,
            "right": null,
            "top": null,
            "visibility": null,
            "width": null
          }
        },
        "80425fe7fedf493cb892da2139891565": {
          "model_module": "@jupyter-widgets/base",
          "model_module_version": "1.2.0",
          "model_name": "LayoutModel",
          "state": {
            "_model_module": "@jupyter-widgets/base",
            "_model_module_version": "1.2.0",
            "_model_name": "LayoutModel",
            "_view_count": null,
            "_view_module": "@jupyter-widgets/base",
            "_view_module_version": "1.2.0",
            "_view_name": "LayoutView",
            "align_content": null,
            "align_items": null,
            "align_self": null,
            "border": null,
            "bottom": null,
            "display": null,
            "flex": null,
            "flex_flow": null,
            "grid_area": null,
            "grid_auto_columns": null,
            "grid_auto_flow": null,
            "grid_auto_rows": null,
            "grid_column": null,
            "grid_gap": null,
            "grid_row": null,
            "grid_template_areas": null,
            "grid_template_columns": null,
            "grid_template_rows": null,
            "height": null,
            "justify_content": null,
            "justify_items": null,
            "left": null,
            "margin": null,
            "max_height": null,
            "max_width": null,
            "min_height": null,
            "min_width": null,
            "object_fit": null,
            "object_position": null,
            "order": null,
            "overflow": null,
            "overflow_x": null,
            "overflow_y": null,
            "padding": null,
            "right": null,
            "top": null,
            "visibility": null,
            "width": null
          }
        },
        "81df335f8eac4faca63adfaf28575465": {
          "model_module": "@jupyter-widgets/base",
          "model_module_version": "1.2.0",
          "model_name": "LayoutModel",
          "state": {
            "_model_module": "@jupyter-widgets/base",
            "_model_module_version": "1.2.0",
            "_model_name": "LayoutModel",
            "_view_count": null,
            "_view_module": "@jupyter-widgets/base",
            "_view_module_version": "1.2.0",
            "_view_name": "LayoutView",
            "align_content": null,
            "align_items": null,
            "align_self": null,
            "border": null,
            "bottom": null,
            "display": null,
            "flex": null,
            "flex_flow": null,
            "grid_area": null,
            "grid_auto_columns": null,
            "grid_auto_flow": null,
            "grid_auto_rows": null,
            "grid_column": null,
            "grid_gap": null,
            "grid_row": null,
            "grid_template_areas": null,
            "grid_template_columns": null,
            "grid_template_rows": null,
            "height": null,
            "justify_content": null,
            "justify_items": null,
            "left": null,
            "margin": null,
            "max_height": null,
            "max_width": null,
            "min_height": null,
            "min_width": null,
            "object_fit": null,
            "object_position": null,
            "order": null,
            "overflow": null,
            "overflow_x": null,
            "overflow_y": null,
            "padding": null,
            "right": null,
            "top": null,
            "visibility": null,
            "width": null
          }
        },
        "85e561d9d7b542de97eecd21d6cf6e86": {
          "model_module": "@jupyter-widgets/controls",
          "model_module_version": "1.5.0",
          "model_name": "ProgressStyleModel",
          "state": {
            "_model_module": "@jupyter-widgets/controls",
            "_model_module_version": "1.5.0",
            "_model_name": "ProgressStyleModel",
            "_view_count": null,
            "_view_module": "@jupyter-widgets/base",
            "_view_module_version": "1.2.0",
            "_view_name": "StyleView",
            "bar_color": null,
            "description_width": ""
          }
        },
        "8bd9da6128744894866f2a48efab5e28": {
          "model_module": "@jupyter-widgets/controls",
          "model_module_version": "1.5.0",
          "model_name": "FloatProgressModel",
          "state": {
            "_dom_classes": [],
            "_model_module": "@jupyter-widgets/controls",
            "_model_module_version": "1.5.0",
            "_model_name": "FloatProgressModel",
            "_view_count": null,
            "_view_module": "@jupyter-widgets/controls",
            "_view_module_version": "1.5.0",
            "_view_name": "ProgressView",
            "bar_style": "",
            "description": "",
            "description_tooltip": null,
            "layout": "IPY_MODEL_a085718f77c34f83821531470ab6f590",
            "max": 100000,
            "min": 0,
            "orientation": "horizontal",
            "style": "IPY_MODEL_e1dbb264a1da4690ab16450bf728aecd",
            "value": 100000
          }
        },
        "945af74e3d4d4e4981d904e562151b80": {
          "model_module": "@jupyter-widgets/controls",
          "model_module_version": "1.5.0",
          "model_name": "FloatProgressModel",
          "state": {
            "_dom_classes": [],
            "_model_module": "@jupyter-widgets/controls",
            "_model_module_version": "1.5.0",
            "_model_name": "FloatProgressModel",
            "_view_count": null,
            "_view_module": "@jupyter-widgets/controls",
            "_view_module_version": "1.5.0",
            "_view_name": "ProgressView",
            "bar_style": "",
            "description": "",
            "description_tooltip": null,
            "layout": "IPY_MODEL_2c2e70c192b84d59a054c6309c4d6f38",
            "max": 100000,
            "min": 0,
            "orientation": "horizontal",
            "style": "IPY_MODEL_018af4f2a0c14a2988f4eeff9e5f10f2",
            "value": 100000
          }
        },
        "9d018f52e2df40e58b45cfa6d2cee58e": {
          "model_module": "@jupyter-widgets/controls",
          "model_module_version": "1.5.0",
          "model_name": "FloatProgressModel",
          "state": {
            "_dom_classes": [],
            "_model_module": "@jupyter-widgets/controls",
            "_model_module_version": "1.5.0",
            "_model_name": "FloatProgressModel",
            "_view_count": null,
            "_view_module": "@jupyter-widgets/controls",
            "_view_module_version": "1.5.0",
            "_view_name": "ProgressView",
            "bar_style": "",
            "description": "",
            "description_tooltip": null,
            "layout": "IPY_MODEL_d6883bda5fae41349cd7108dde77c5ec",
            "max": 100000,
            "min": 0,
            "orientation": "horizontal",
            "style": "IPY_MODEL_41e44ae5e6914232985d8052a1f86492",
            "value": 100000
          }
        },
        "a085718f77c34f83821531470ab6f590": {
          "model_module": "@jupyter-widgets/base",
          "model_module_version": "1.2.0",
          "model_name": "LayoutModel",
          "state": {
            "_model_module": "@jupyter-widgets/base",
            "_model_module_version": "1.2.0",
            "_model_name": "LayoutModel",
            "_view_count": null,
            "_view_module": "@jupyter-widgets/base",
            "_view_module_version": "1.2.0",
            "_view_name": "LayoutView",
            "align_content": null,
            "align_items": null,
            "align_self": null,
            "border": null,
            "bottom": null,
            "display": null,
            "flex": null,
            "flex_flow": null,
            "grid_area": null,
            "grid_auto_columns": null,
            "grid_auto_flow": null,
            "grid_auto_rows": null,
            "grid_column": null,
            "grid_gap": null,
            "grid_row": null,
            "grid_template_areas": null,
            "grid_template_columns": null,
            "grid_template_rows": null,
            "height": null,
            "justify_content": null,
            "justify_items": null,
            "left": null,
            "margin": null,
            "max_height": null,
            "max_width": null,
            "min_height": null,
            "min_width": null,
            "object_fit": null,
            "object_position": null,
            "order": null,
            "overflow": null,
            "overflow_x": null,
            "overflow_y": null,
            "padding": null,
            "right": null,
            "top": null,
            "visibility": null,
            "width": null
          }
        },
        "a217a8278c4940c28678faf1c6dbec71": {
          "model_module": "@jupyter-widgets/controls",
          "model_module_version": "1.5.0",
          "model_name": "ProgressStyleModel",
          "state": {
            "_model_module": "@jupyter-widgets/controls",
            "_model_module_version": "1.5.0",
            "_model_name": "ProgressStyleModel",
            "_view_count": null,
            "_view_module": "@jupyter-widgets/base",
            "_view_module_version": "1.2.0",
            "_view_name": "StyleView",
            "bar_color": null,
            "description_width": ""
          }
        },
        "a5d67f4602784d0d8d0f7dac08c77a84": {
          "model_module": "@jupyter-widgets/controls",
          "model_module_version": "1.5.0",
          "model_name": "FloatProgressModel",
          "state": {
            "_dom_classes": [],
            "_model_module": "@jupyter-widgets/controls",
            "_model_module_version": "1.5.0",
            "_model_name": "FloatProgressModel",
            "_view_count": null,
            "_view_module": "@jupyter-widgets/controls",
            "_view_module_version": "1.5.0",
            "_view_name": "ProgressView",
            "bar_style": "",
            "description": "",
            "description_tooltip": null,
            "layout": "IPY_MODEL_80425fe7fedf493cb892da2139891565",
            "max": 30000,
            "min": 0,
            "orientation": "horizontal",
            "style": "IPY_MODEL_dc4471b6f2914a59bcc0378a701230cd",
            "value": 30000
          }
        },
        "a7eb93cd79c34d3c8775be88584d70a1": {
          "model_module": "@jupyter-widgets/controls",
          "model_module_version": "1.5.0",
          "model_name": "ProgressStyleModel",
          "state": {
            "_model_module": "@jupyter-widgets/controls",
            "_model_module_version": "1.5.0",
            "_model_name": "ProgressStyleModel",
            "_view_count": null,
            "_view_module": "@jupyter-widgets/base",
            "_view_module_version": "1.2.0",
            "_view_name": "StyleView",
            "bar_color": null,
            "description_width": ""
          }
        },
        "b5971d65e10c40919ddcacef27f91805": {
          "model_module": "@jupyter-widgets/base",
          "model_module_version": "1.2.0",
          "model_name": "LayoutModel",
          "state": {
            "_model_module": "@jupyter-widgets/base",
            "_model_module_version": "1.2.0",
            "_model_name": "LayoutModel",
            "_view_count": null,
            "_view_module": "@jupyter-widgets/base",
            "_view_module_version": "1.2.0",
            "_view_name": "LayoutView",
            "align_content": null,
            "align_items": null,
            "align_self": null,
            "border": null,
            "bottom": null,
            "display": null,
            "flex": null,
            "flex_flow": null,
            "grid_area": null,
            "grid_auto_columns": null,
            "grid_auto_flow": null,
            "grid_auto_rows": null,
            "grid_column": null,
            "grid_gap": null,
            "grid_row": null,
            "grid_template_areas": null,
            "grid_template_columns": null,
            "grid_template_rows": null,
            "height": null,
            "justify_content": null,
            "justify_items": null,
            "left": null,
            "margin": null,
            "max_height": null,
            "max_width": null,
            "min_height": null,
            "min_width": null,
            "object_fit": null,
            "object_position": null,
            "order": null,
            "overflow": null,
            "overflow_x": null,
            "overflow_y": null,
            "padding": null,
            "right": null,
            "top": null,
            "visibility": null,
            "width": null
          }
        },
        "c2364ad7f265439a8231736e2481e5c2": {
          "model_module": "@jupyter-widgets/controls",
          "model_module_version": "1.5.0",
          "model_name": "FloatProgressModel",
          "state": {
            "_dom_classes": [],
            "_model_module": "@jupyter-widgets/controls",
            "_model_module_version": "1.5.0",
            "_model_name": "FloatProgressModel",
            "_view_count": null,
            "_view_module": "@jupyter-widgets/controls",
            "_view_module_version": "1.5.0",
            "_view_name": "ProgressView",
            "bar_style": "",
            "description": "",
            "description_tooltip": null,
            "layout": "IPY_MODEL_e69db405e69a406d9b5e0a18cf032e22",
            "max": 30000,
            "min": 0,
            "orientation": "horizontal",
            "style": "IPY_MODEL_0ed8b50325434890ae4af227b8e47f31",
            "value": 30000
          }
        },
        "cc6bf03f81eb4f4a88e4c96ac4ed9cc5": {
          "model_module": "@jupyter-widgets/controls",
          "model_module_version": "1.5.0",
          "model_name": "FloatProgressModel",
          "state": {
            "_dom_classes": [],
            "_model_module": "@jupyter-widgets/controls",
            "_model_module_version": "1.5.0",
            "_model_name": "FloatProgressModel",
            "_view_count": null,
            "_view_module": "@jupyter-widgets/controls",
            "_view_module_version": "1.5.0",
            "_view_name": "ProgressView",
            "bar_style": "",
            "description": "",
            "description_tooltip": null,
            "layout": "IPY_MODEL_81df335f8eac4faca63adfaf28575465",
            "max": 100000,
            "min": 0,
            "orientation": "horizontal",
            "style": "IPY_MODEL_4167d5c310ec478a8a491d2a894b4ac1",
            "value": 1152
          }
        },
        "d6883bda5fae41349cd7108dde77c5ec": {
          "model_module": "@jupyter-widgets/base",
          "model_module_version": "1.2.0",
          "model_name": "LayoutModel",
          "state": {
            "_model_module": "@jupyter-widgets/base",
            "_model_module_version": "1.2.0",
            "_model_name": "LayoutModel",
            "_view_count": null,
            "_view_module": "@jupyter-widgets/base",
            "_view_module_version": "1.2.0",
            "_view_name": "LayoutView",
            "align_content": null,
            "align_items": null,
            "align_self": null,
            "border": null,
            "bottom": null,
            "display": null,
            "flex": null,
            "flex_flow": null,
            "grid_area": null,
            "grid_auto_columns": null,
            "grid_auto_flow": null,
            "grid_auto_rows": null,
            "grid_column": null,
            "grid_gap": null,
            "grid_row": null,
            "grid_template_areas": null,
            "grid_template_columns": null,
            "grid_template_rows": null,
            "height": null,
            "justify_content": null,
            "justify_items": null,
            "left": null,
            "margin": null,
            "max_height": null,
            "max_width": null,
            "min_height": null,
            "min_width": null,
            "object_fit": null,
            "object_position": null,
            "order": null,
            "overflow": null,
            "overflow_x": null,
            "overflow_y": null,
            "padding": null,
            "right": null,
            "top": null,
            "visibility": null,
            "width": null
          }
        },
        "dc4471b6f2914a59bcc0378a701230cd": {
          "model_module": "@jupyter-widgets/controls",
          "model_module_version": "1.5.0",
          "model_name": "ProgressStyleModel",
          "state": {
            "_model_module": "@jupyter-widgets/controls",
            "_model_module_version": "1.5.0",
            "_model_name": "ProgressStyleModel",
            "_view_count": null,
            "_view_module": "@jupyter-widgets/base",
            "_view_module_version": "1.2.0",
            "_view_name": "StyleView",
            "bar_color": null,
            "description_width": ""
          }
        },
        "e1dbb264a1da4690ab16450bf728aecd": {
          "model_module": "@jupyter-widgets/controls",
          "model_module_version": "1.5.0",
          "model_name": "ProgressStyleModel",
          "state": {
            "_model_module": "@jupyter-widgets/controls",
            "_model_module_version": "1.5.0",
            "_model_name": "ProgressStyleModel",
            "_view_count": null,
            "_view_module": "@jupyter-widgets/base",
            "_view_module_version": "1.2.0",
            "_view_name": "StyleView",
            "bar_color": null,
            "description_width": ""
          }
        },
        "e69db405e69a406d9b5e0a18cf032e22": {
          "model_module": "@jupyter-widgets/base",
          "model_module_version": "1.2.0",
          "model_name": "LayoutModel",
          "state": {
            "_model_module": "@jupyter-widgets/base",
            "_model_module_version": "1.2.0",
            "_model_name": "LayoutModel",
            "_view_count": null,
            "_view_module": "@jupyter-widgets/base",
            "_view_module_version": "1.2.0",
            "_view_name": "LayoutView",
            "align_content": null,
            "align_items": null,
            "align_self": null,
            "border": null,
            "bottom": null,
            "display": null,
            "flex": null,
            "flex_flow": null,
            "grid_area": null,
            "grid_auto_columns": null,
            "grid_auto_flow": null,
            "grid_auto_rows": null,
            "grid_column": null,
            "grid_gap": null,
            "grid_row": null,
            "grid_template_areas": null,
            "grid_template_columns": null,
            "grid_template_rows": null,
            "height": null,
            "justify_content": null,
            "justify_items": null,
            "left": null,
            "margin": null,
            "max_height": null,
            "max_width": null,
            "min_height": null,
            "min_width": null,
            "object_fit": null,
            "object_position": null,
            "order": null,
            "overflow": null,
            "overflow_x": null,
            "overflow_y": null,
            "padding": null,
            "right": null,
            "top": null,
            "visibility": null,
            "width": null
          }
        }
      }
    }
  },
  "nbformat": 4,
  "nbformat_minor": 0
}
